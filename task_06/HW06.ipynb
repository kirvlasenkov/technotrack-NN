{
  "nbformat": 4,
  "nbformat_minor": 0,
  "metadata": {
    "kernelspec": {
      "display_name": "Python 3",
      "language": "python",
      "name": "python3"
    },
    "language_info": {
      "codemirror_mode": {
        "name": "ipython",
        "version": 3
      },
      "file_extension": ".py",
      "mimetype": "text/x-python",
      "name": "python",
      "nbconvert_exporter": "python",
      "pygments_lexer": "ipython3",
      "version": "3.8.3"
    },
    "colab": {
      "name": "HW06.ipynb",
      "provenance": [],
      "collapsed_sections": [],
      "toc_visible": true
    },
    "accelerator": "GPU"
  },
  "cells": [
    {
      "cell_type": "markdown",
      "metadata": {
        "id": "ZPaMrhzQfbc5"
      },
      "source": [
        "# ДЗ №6 - автокодировщики для идентификации аномалий"
      ]
    },
    {
      "cell_type": "markdown",
      "metadata": {
        "id": "yp7kP6Mbfbc7"
      },
      "source": [
        "В этом ДЗ вам предстоит применить модель сврточного автокодировщика для идентификации аномалий в данных."
      ]
    },
    {
      "cell_type": "markdown",
      "metadata": {
        "id": "5kIVXwLofbc7"
      },
      "source": [
        "Для этого вам потребуется создать сверточный автокодировщик, обучить его и применить к тестовым данным.\n",
        "\n",
        "Основная идея фильтрации аномалий состоит в том, что экземпляры выборки, являющиеся аномалиями, сильно отличаются от всех остальных объектов. Кроме того, их мало по сранению с размером всей выборки.\n",
        "Этот набор факторов приводит к тому, что автокодировщик, обученный на данных тренировочной выборки, будет довольно плохо восстанавливать примеры-аномалии. То есть, значения функции потерь на таких примерах ожидается нетипично высоким."
      ]
    },
    {
      "cell_type": "code",
      "metadata": {
        "colab": {
          "base_uri": "https://localhost:8080/"
        },
        "id": "xuERHDp1fbc8",
        "outputId": "e27a0187-9a00-4ec2-948f-4a29c39619b7"
      },
      "source": [
        "# Эту ячейку следует выоплнять в окружении, в котором еще не установлены необходимые библиотеки. В подготовленном окружении эту ячейку можно пропустить.\n",
        "!pip3 install torch torchvision numpy matplotlib"
      ],
      "execution_count": 1,
      "outputs": [
        {
          "output_type": "stream",
          "text": [
            "Requirement already satisfied: torch in /usr/local/lib/python3.7/dist-packages (1.8.1+cu101)\n",
            "Requirement already satisfied: torchvision in /usr/local/lib/python3.7/dist-packages (0.9.1+cu101)\n",
            "Requirement already satisfied: numpy in /usr/local/lib/python3.7/dist-packages (1.19.5)\n",
            "Requirement already satisfied: matplotlib in /usr/local/lib/python3.7/dist-packages (3.2.2)\n",
            "Requirement already satisfied: typing-extensions in /usr/local/lib/python3.7/dist-packages (from torch) (3.7.4.3)\n",
            "Requirement already satisfied: pillow>=4.1.1 in /usr/local/lib/python3.7/dist-packages (from torchvision) (7.1.2)\n",
            "Requirement already satisfied: kiwisolver>=1.0.1 in /usr/local/lib/python3.7/dist-packages (from matplotlib) (1.3.1)\n",
            "Requirement already satisfied: pyparsing!=2.0.4,!=2.1.2,!=2.1.6,>=2.0.1 in /usr/local/lib/python3.7/dist-packages (from matplotlib) (2.4.7)\n",
            "Requirement already satisfied: cycler>=0.10 in /usr/local/lib/python3.7/dist-packages (from matplotlib) (0.10.0)\n",
            "Requirement already satisfied: python-dateutil>=2.1 in /usr/local/lib/python3.7/dist-packages (from matplotlib) (2.8.1)\n",
            "Requirement already satisfied: six in /usr/local/lib/python3.7/dist-packages (from cycler>=0.10->matplotlib) (1.15.0)\n"
          ],
          "name": "stdout"
        }
      ]
    },
    {
      "cell_type": "code",
      "metadata": {
        "colab": {
          "base_uri": "https://localhost:8080/"
        },
        "id": "sJL7tELSkK-6",
        "outputId": "3223f4e2-a6db-4fc0-e208-5efd33b9dc72"
      },
      "source": [
        "!pip3 install -U albumentations"
      ],
      "execution_count": 2,
      "outputs": [
        {
          "output_type": "stream",
          "text": [
            "Collecting albumentations\n",
            "\u001b[?25l  Downloading https://files.pythonhosted.org/packages/03/58/63fb1d742dc42d9ba2800ea741de1f2bc6bb05548d8724aa84794042eaf2/albumentations-0.5.2-py3-none-any.whl (72kB)\n",
            "\r\u001b[K     |████▌                           | 10kB 20.1MB/s eta 0:00:01\r\u001b[K     |█████████                       | 20kB 11.9MB/s eta 0:00:01\r\u001b[K     |█████████████▋                  | 30kB 9.2MB/s eta 0:00:01\r\u001b[K     |██████████████████▏             | 40kB 8.3MB/s eta 0:00:01\r\u001b[K     |██████████████████████▊         | 51kB 4.4MB/s eta 0:00:01\r\u001b[K     |███████████████████████████▏    | 61kB 5.0MB/s eta 0:00:01\r\u001b[K     |███████████████████████████████▊| 71kB 5.4MB/s eta 0:00:01\r\u001b[K     |████████████████████████████████| 81kB 4.3MB/s \n",
            "\u001b[?25hRequirement already satisfied, skipping upgrade: scikit-image>=0.16.1 in /usr/local/lib/python3.7/dist-packages (from albumentations) (0.16.2)\n",
            "Requirement already satisfied, skipping upgrade: PyYAML in /usr/local/lib/python3.7/dist-packages (from albumentations) (3.13)\n",
            "Requirement already satisfied, skipping upgrade: numpy>=1.11.1 in /usr/local/lib/python3.7/dist-packages (from albumentations) (1.19.5)\n",
            "Collecting imgaug>=0.4.0\n",
            "\u001b[?25l  Downloading https://files.pythonhosted.org/packages/66/b1/af3142c4a85cba6da9f4ebb5ff4e21e2616309552caca5e8acefe9840622/imgaug-0.4.0-py2.py3-none-any.whl (948kB)\n",
            "\u001b[K     |████████████████████████████████| 952kB 7.5MB/s \n",
            "\u001b[?25hCollecting opencv-python-headless>=4.1.1\n",
            "\u001b[?25l  Downloading https://files.pythonhosted.org/packages/c8/84/72ec52fbac4775c2a5bf0ee5573c922a0cac35eb841907edf56493a5e313/opencv_python_headless-4.5.2.52-cp37-cp37m-manylinux2014_x86_64.whl (38.2MB)\n",
            "\u001b[K     |████████████████████████████████| 38.2MB 79kB/s \n",
            "\u001b[?25hRequirement already satisfied, skipping upgrade: scipy in /usr/local/lib/python3.7/dist-packages (from albumentations) (1.4.1)\n",
            "Requirement already satisfied, skipping upgrade: matplotlib!=3.0.0,>=2.0.0 in /usr/local/lib/python3.7/dist-packages (from scikit-image>=0.16.1->albumentations) (3.2.2)\n",
            "Requirement already satisfied, skipping upgrade: pillow>=4.3.0 in /usr/local/lib/python3.7/dist-packages (from scikit-image>=0.16.1->albumentations) (7.1.2)\n",
            "Requirement already satisfied, skipping upgrade: imageio>=2.3.0 in /usr/local/lib/python3.7/dist-packages (from scikit-image>=0.16.1->albumentations) (2.4.1)\n",
            "Requirement already satisfied, skipping upgrade: networkx>=2.0 in /usr/local/lib/python3.7/dist-packages (from scikit-image>=0.16.1->albumentations) (2.5.1)\n",
            "Requirement already satisfied, skipping upgrade: PyWavelets>=0.4.0 in /usr/local/lib/python3.7/dist-packages (from scikit-image>=0.16.1->albumentations) (1.1.1)\n",
            "Requirement already satisfied, skipping upgrade: Shapely in /usr/local/lib/python3.7/dist-packages (from imgaug>=0.4.0->albumentations) (1.7.1)\n",
            "Requirement already satisfied, skipping upgrade: six in /usr/local/lib/python3.7/dist-packages (from imgaug>=0.4.0->albumentations) (1.15.0)\n",
            "Requirement already satisfied, skipping upgrade: opencv-python in /usr/local/lib/python3.7/dist-packages (from imgaug>=0.4.0->albumentations) (4.1.2.30)\n",
            "Requirement already satisfied, skipping upgrade: cycler>=0.10 in /usr/local/lib/python3.7/dist-packages (from matplotlib!=3.0.0,>=2.0.0->scikit-image>=0.16.1->albumentations) (0.10.0)\n",
            "Requirement already satisfied, skipping upgrade: python-dateutil>=2.1 in /usr/local/lib/python3.7/dist-packages (from matplotlib!=3.0.0,>=2.0.0->scikit-image>=0.16.1->albumentations) (2.8.1)\n",
            "Requirement already satisfied, skipping upgrade: pyparsing!=2.0.4,!=2.1.2,!=2.1.6,>=2.0.1 in /usr/local/lib/python3.7/dist-packages (from matplotlib!=3.0.0,>=2.0.0->scikit-image>=0.16.1->albumentations) (2.4.7)\n",
            "Requirement already satisfied, skipping upgrade: kiwisolver>=1.0.1 in /usr/local/lib/python3.7/dist-packages (from matplotlib!=3.0.0,>=2.0.0->scikit-image>=0.16.1->albumentations) (1.3.1)\n",
            "Requirement already satisfied, skipping upgrade: decorator<5,>=4.3 in /usr/local/lib/python3.7/dist-packages (from networkx>=2.0->scikit-image>=0.16.1->albumentations) (4.4.2)\n",
            "Installing collected packages: imgaug, opencv-python-headless, albumentations\n",
            "  Found existing installation: imgaug 0.2.9\n",
            "    Uninstalling imgaug-0.2.9:\n",
            "      Successfully uninstalled imgaug-0.2.9\n",
            "  Found existing installation: albumentations 0.1.12\n",
            "    Uninstalling albumentations-0.1.12:\n",
            "      Successfully uninstalled albumentations-0.1.12\n",
            "Successfully installed albumentations-0.5.2 imgaug-0.4.0 opencv-python-headless-4.5.2.52\n"
          ],
          "name": "stdout"
        }
      ]
    },
    {
      "cell_type": "code",
      "metadata": {
        "id": "urf4ylAgfbc8"
      },
      "source": [
        "import numpy as np\n",
        "from scipy import stats\n",
        "\n",
        "%matplotlib inline\n",
        "import matplotlib.pylab as plt\n",
        "import seaborn as sns\n",
        "plt.style.use('ggplot')\n",
        "\n",
        "import torch\n",
        "import torchvision\n",
        "import torch.nn as nn\n",
        "import torch.nn.functional as F\n",
        "from torch.utils.data import Dataset, DataLoader\n",
        "from tqdm import tqdm\n",
        "from PIL import Image\n",
        "from skimage.io import imshow\n",
        "from sklearn.model_selection import train_test_split\n",
        "\n",
        "# trying new augmentation library\n",
        "import albumentations as A\n",
        "from albumentations.pytorch.transforms import ToTensorV2\n",
        "\n",
        "from typing import Tuple, List, Type, Dict, Any"
      ],
      "execution_count": 3,
      "outputs": []
    },
    {
      "cell_type": "code",
      "metadata": {
        "colab": {
          "base_uri": "https://localhost:8080/"
        },
        "id": "cfM9lXS6fbc8",
        "outputId": "c35d119e-4603-4a6d-ff5c-dfd8d31fa96a"
      },
      "source": [
        "device = torch.device(\"cuda\" if torch.cuda.is_available() else \"cpu\")\n",
        "print(f'Using {device} device')"
      ],
      "execution_count": 4,
      "outputs": [
        {
          "output_type": "stream",
          "text": [
            "Using cuda device\n"
          ],
          "name": "stdout"
        }
      ]
    },
    {
      "cell_type": "markdown",
      "metadata": {
        "id": "l-VfQOFTjcQd"
      },
      "source": [
        "# Константы"
      ]
    },
    {
      "cell_type": "code",
      "metadata": {
        "id": "TJacV-xLj3oa"
      },
      "source": [
        "RESIZE_SHAPE = (28, 28)\n",
        "BATCH_SIZE = 256"
      ],
      "execution_count": 5,
      "outputs": []
    },
    {
      "cell_type": "markdown",
      "metadata": {
        "id": "ot_5qAUMfbc9"
      },
      "source": [
        "# Свёрточный автокодировщик (convolutional autoencoder, CAE)\n",
        "\n",
        "Данными в этой задаче будут все так же набор рукописных цифр MNIST. Однако некоторые экземпляры тестовой выборки оказываются испорченными. Ваша цель - найти эти экземпляры в предположении, что они представляют собой аномалии.\n",
        "\n",
        "Данные MNIST с дефектами нужно скачать в виде файла по <a href=\"https://www.dropbox.com/s/r7mgjn83y9ygpzq/mnist_corrupted.npz\">ссылке</a>\n",
        "\n",
        "Прежде всего следует построить и обучить свёрточный автокодировщик.\n",
        "\n",
        ">Кодирующая часть автокодировщика (encoder, кодировщик) может состоять из сверточных слоев (convolutional layers) и слоев субдискретизации (pooling layers), но может быть и сложнее. Здесь предлагается применить ваши знания относительно возможной структуры сверточных сетей. Кодировщик, будучи обученным, позволяет извлечь скрытое представление (hidden representation, embeddings) входных примеров, содержащее достаточно информации для восстановления этих примеров декодером.\n",
        "\n",
        "> Декодер (decoder) может состоять из слоев типа **transpose convolution** и операций масштабирования (upsampling), но также, как и кодировщик, может быть сложнее. Декодер должен восстанавливать примеры, руководствуюясь их векторами скрытого представления.\n",
        "\n",
        "<img src='imgs/autoencoder_1.png' />\n",
        "\n",
        "### Скрытое представление (hidden representation, compressed representation)\n",
        "\n",
        "Скрытое представление может содержать семантически насыщенную информацию о входных примерах. С использованием этих данных можно проводить фильтрацию шума в примерах, восстанавливать сами примеры, и иногда даже проводить некоторые операции в семантическом пространстве."
      ]
    },
    {
      "cell_type": "code",
      "metadata": {
        "colab": {
          "base_uri": "https://localhost:8080/"
        },
        "id": "gdtF9aa_fbc-",
        "outputId": "a737f335-74ab-46b1-cacb-fd7bc49d513e"
      },
      "source": [
        "!wget https://www.dropbox.com/s/r7mgjn83y9ygpzq/mnist_corrupted.npz"
      ],
      "execution_count": 6,
      "outputs": [
        {
          "output_type": "stream",
          "text": [
            "--2021-05-08 14:10:33--  https://www.dropbox.com/s/r7mgjn83y9ygpzq/mnist_corrupted.npz\n",
            "Resolving www.dropbox.com (www.dropbox.com)... 162.125.3.18, 2620:100:6018:18::a27d:312\n",
            "Connecting to www.dropbox.com (www.dropbox.com)|162.125.3.18|:443... connected.\n",
            "HTTP request sent, awaiting response... 301 Moved Permanently\n",
            "Location: /s/raw/r7mgjn83y9ygpzq/mnist_corrupted.npz [following]\n",
            "--2021-05-08 14:10:33--  https://www.dropbox.com/s/raw/r7mgjn83y9ygpzq/mnist_corrupted.npz\n",
            "Reusing existing connection to www.dropbox.com:443.\n",
            "HTTP request sent, awaiting response... 302 Found\n",
            "Location: https://uc715f48f47c6ce906f40a5b2b82.dl.dropboxusercontent.com/cd/0/inline/BOEhW2vb4yQEX5LghYRUaeT8l21kBoQ6qxtRc2XZRxNRBsKhA0u-rLhkkXw8bz2ixBypKexWRvgvx_Atyif0bMi8uT8FOX2J9LXBHU344SgSYEEZpsqJobdRZAYFjSb55r6-n3pma-WQWj-Cf2mcA9O3/file# [following]\n",
            "--2021-05-08 14:10:33--  https://uc715f48f47c6ce906f40a5b2b82.dl.dropboxusercontent.com/cd/0/inline/BOEhW2vb4yQEX5LghYRUaeT8l21kBoQ6qxtRc2XZRxNRBsKhA0u-rLhkkXw8bz2ixBypKexWRvgvx_Atyif0bMi8uT8FOX2J9LXBHU344SgSYEEZpsqJobdRZAYFjSb55r6-n3pma-WQWj-Cf2mcA9O3/file\n",
            "Resolving uc715f48f47c6ce906f40a5b2b82.dl.dropboxusercontent.com (uc715f48f47c6ce906f40a5b2b82.dl.dropboxusercontent.com)... 162.125.3.15, 2620:100:6018:15::a27d:30f\n",
            "Connecting to uc715f48f47c6ce906f40a5b2b82.dl.dropboxusercontent.com (uc715f48f47c6ce906f40a5b2b82.dl.dropboxusercontent.com)|162.125.3.15|:443... connected.\n",
            "HTTP request sent, awaiting response... 302 Found\n",
            "Location: /cd/0/inline2/BOE9hUpD4qmU4rCuIzMVvpcdiCmQ2V_ZqiTXuJ-Uhw2UT60T16h-c4Jlb_uq89hGnYtps6ygYLRv9HbhvECK8AkoD7Nks86OT38w_hDbIF_nWwCB48_ZJWkEZsrusjIp3MOgQc5B5R0dQGAQ0UTt771ldkZfHZOUfAvxfDyMD4l00B5aa6plxHZluzWXlocqNl4aVxsa6myJPyWGuHwgiBdmgJOwvO-nHD2SvA3LHb5IZr5TzoefZMVwGxhep7roYw7DiKdscRt3PfdccYXPkxCAFBEafurs6C7O1z4dMSwVGVXpcH0yCwi5ViX-pMDwg7Ncp9o_bAdV7AvBH3GOP6COsbew_4ofE6eTcejzTrmaTYu0_E830GFkv-BgY_enrpU/file [following]\n",
            "--2021-05-08 14:10:34--  https://uc715f48f47c6ce906f40a5b2b82.dl.dropboxusercontent.com/cd/0/inline2/BOE9hUpD4qmU4rCuIzMVvpcdiCmQ2V_ZqiTXuJ-Uhw2UT60T16h-c4Jlb_uq89hGnYtps6ygYLRv9HbhvECK8AkoD7Nks86OT38w_hDbIF_nWwCB48_ZJWkEZsrusjIp3MOgQc5B5R0dQGAQ0UTt771ldkZfHZOUfAvxfDyMD4l00B5aa6plxHZluzWXlocqNl4aVxsa6myJPyWGuHwgiBdmgJOwvO-nHD2SvA3LHb5IZr5TzoefZMVwGxhep7roYw7DiKdscRt3PfdccYXPkxCAFBEafurs6C7O1z4dMSwVGVXpcH0yCwi5ViX-pMDwg7Ncp9o_bAdV7AvBH3GOP6COsbew_4ofE6eTcejzTrmaTYu0_E830GFkv-BgY_enrpU/file\n",
            "Reusing existing connection to uc715f48f47c6ce906f40a5b2b82.dl.dropboxusercontent.com:443.\n",
            "HTTP request sent, awaiting response... 200 OK\n",
            "Length: 54880512 (52M) [application/octet-stream]\n",
            "Saving to: ‘mnist_corrupted.npz’\n",
            "\n",
            "mnist_corrupted.npz 100%[===================>]  52.34M  71.1MB/s    in 0.7s    \n",
            "\n",
            "2021-05-08 14:10:35 (71.1 MB/s) - ‘mnist_corrupted.npz’ saved [54880512/54880512]\n",
            "\n"
          ],
          "name": "stdout"
        }
      ]
    },
    {
      "cell_type": "markdown",
      "metadata": {
        "id": "yMnvH21Bfbc-"
      },
      "source": [
        "В предположении, что файл данных `mnist_corrupted.npz` загружен и находится в той же директории, что и этот нотбук, генераторы данных можно описать следующим образом:"
      ]
    },
    {
      "cell_type": "code",
      "metadata": {
        "id": "vWsx7_3lfbc-"
      },
      "source": [
        "class DS(Dataset):\n",
        "    def __init__(self, data, transform=None):\n",
        "        self.data = data\n",
        "        self.transform = transform\n",
        "\n",
        "    def __getitem__(self, index):\n",
        "        x = self.data[index]\n",
        "\n",
        "        if self.transform:\n",
        "            x = self.transform(image=x)['image']\n",
        "\n",
        "        return x\n",
        "\n",
        "    def __len__(self):\n",
        "        return len(self.data)"
      ],
      "execution_count": 7,
      "outputs": []
    },
    {
      "cell_type": "code",
      "metadata": {
        "id": "2Am1BAaDf7um"
      },
      "source": [
        "train_val_transforms = A.Compose(\n",
        "    [\n",
        "     A.ToFloat(max_value=255),\n",
        "     A.Resize(height=RESIZE_SHAPE[0], width=RESIZE_SHAPE[1]),\n",
        "     A.Rotate(limit=20),\n",
        "     A.RandomBrightness(limit=0.1),\n",
        "     ToTensorV2(),\n",
        "    ]\n",
        ")\n",
        "\n",
        "test_transforms = A.Compose(\n",
        "    [\n",
        "     A.ToFloat(max_value=255),\n",
        "     A.Resize(height=RESIZE_SHAPE[0], width=RESIZE_SHAPE[1]),\n",
        "     ToTensorV2(),\n",
        "    ]\n",
        ")"
      ],
      "execution_count": 8,
      "outputs": []
    },
    {
      "cell_type": "code",
      "metadata": {
        "id": "ZGGNIH2Qfbc_"
      },
      "source": [
        "mnist = np.load('./mnist_corrupted.npz')\n",
        "train_val_samples = mnist['x_train']\n",
        "test_samples = mnist['x_test']\n",
        "train_val_dataset = DS(train_val_samples, train_val_transforms)\n",
        "test_dataset = DS(test_samples, test_transforms)"
      ],
      "execution_count": 9,
      "outputs": []
    },
    {
      "cell_type": "code",
      "metadata": {
        "colab": {
          "base_uri": "https://localhost:8080/"
        },
        "id": "SzGEvcpV_YWD",
        "outputId": "e38195bb-fcc9-4267-cd8f-970714c50add"
      },
      "source": [
        "train_dataset, val_dataset = train_test_split(train_val_dataset, test_size=0.10)\n",
        "\n",
        "print(f'size of data for training: {len(train_dataset)}, size of data for validation: {len(val_dataset)}')"
      ],
      "execution_count": 10,
      "outputs": [
        {
          "output_type": "stream",
          "text": [
            "size of data for training: 54000, size of data for validation: 6000\n"
          ],
          "name": "stdout"
        }
      ]
    },
    {
      "cell_type": "markdown",
      "metadata": {
        "id": "VnP1zwxVzEXG"
      },
      "source": [
        "## Инициализация Dataloader'ов"
      ]
    },
    {
      "cell_type": "code",
      "metadata": {
        "id": "qsqhw0pLzKpx"
      },
      "source": [
        "train_dataloader = DataLoader(dataset=train_dataset, batch_size=BATCH_SIZE, shuffle=True)\n",
        "val_dataloader = DataLoader(dataset=val_dataset, batch_size=BATCH_SIZE, shuffle=True)\n",
        "\n",
        "dataloaders = {\n",
        "    'train': train_dataloader,\n",
        "    'val': val_dataloader,\n",
        "}"
      ],
      "execution_count": 11,
      "outputs": []
    },
    {
      "cell_type": "markdown",
      "metadata": {
        "id": "HarF82kYfbc_"
      },
      "source": [
        "### Визуализация исходных данных\n",
        "\n",
        "Как и в любой задаче, имеет смысл визуализировать исходные данные, чтобы понимать, с чем мы имеем дело"
      ]
    },
    {
      "cell_type": "code",
      "metadata": {
        "colab": {
          "base_uri": "https://localhost:8080/",
          "height": 294
        },
        "id": "s7YYFwhyfbc_",
        "outputId": "4ca235f0-765d-409f-d2ec-c4826064ba72"
      },
      "source": [
        "indices = np.random.randint(0, len(train_val_dataset), size=8)\n",
        "\n",
        "fig, axes = plt.subplots(nrows=1, ncols=8, figsize=(8, 2), dpi=300)\n",
        "for i, ax in enumerate(axes):\n",
        "    sample_index = indices[i]\n",
        "    sample = train_val_dataset[sample_index]\n",
        "    ax.imshow(np.squeeze(sample.cpu().numpy()), cmap='gray')\n",
        "    ax.set_xticks([])\n",
        "    ax.set_yticks([])\n",
        "    \n",
        "plt.tight_layout()\n",
        "fig.patch.set_facecolor('white')"
      ],
      "execution_count": 12,
      "outputs": [
        {
          "output_type": "display_data",
          "data": {
            "image/png": "[encoded data removed]",
            "text/plain": [
              "<Figure size 2400x600 with 8 Axes>"
            ]
          },
          "metadata": {
            "tags": []
          }
        }
      ]
    },
    {
      "cell_type": "markdown",
      "metadata": {
        "id": "tq04Fugnfbc_"
      },
      "source": [
        "---\n",
        "## Свёрточный автокодировщик\n",
        "\n",
        "#### Кодировщик (Encoder)\n",
        "Кодировщик можно реализовать в подходе AlexNet или VGG: сверточные (convolutional) слои чередуются со слоями субдискретизации (pooling). Последние применяются для снижения пространственных размерностей промежуточных представлений входных примеров. Нередко после сверточной части добавляют дополнительные полносвязные слои, позволяющие еще сильнее снизить размерность скрытого представления, извлекаемого кодировщиком.\n",
        "\n",
        "Предлагаемая структура кодировщика не единственно верная. Можно реализовывать и другие.\n",
        "\n",
        "#### Декодер\n",
        "\n",
        "Декодер должен преобразовать вектор скрытого представления (тензор ранга 1) в изображение, реконструкцию входного примера. Для этого следует вектор скрытого представления перевести в ранг 2 (например, операцией `.view()`). После этого следует последовательно применять операции Transpose Convolution (`torch.nn.ConvTranspose2d`) и масштабирования (upsampling, а именно `torch.nn.functional.interpolate`). В некоторых случаях применяют `torch.nn.ConvTranspose2d` с аргументом `stride=2` или больше. Однако такое использование может привести в т.н. [\"эффекту шахматной доски\"](https://distill.pub/2016/deconv-checkerboard/). Рекомендуемым вариантом сейчас считается применение масштабирования типа билинейного или бикубического.\n",
        "\n",
        "Результатом работы декодера должно получиться изображение, по размеру совпадающее с входным примером, то есть, 28x28.\n",
        "\n",
        "Не следует забывать, что одной из целей применения автокодировщиков является снижение размерности примеров с сохранением ключевой информации. Экспериментируйте с количеством слоев и размерностью скрытого представления! Попробуйте снизить его до 2 или вообще до 1. Хорошо ли будут воспроизводиться примеры выборки?\n",
        "\n",
        "### Transpose Convolutions\n",
        "\n",
        "В этом ДЗ в декодере предлагается использовать слои типа **transposed convolutional**. Они работают практически так же, как свёрточные слои, но \"задом наперед\". Например, ядро размером 3x3 в случае свёрточной операции дает в результате одно значение. Операция **transposed convolutional**, наоборот, одно значение входного представления трансформирует в патч размером с его ядро (3x3). В PyTorch есть уже готовая реализация слоев [`nn.ConvTranspose2d`](https://pytorch.org/docs/stable/nn.html#convtranspose2d).\n",
        "\n",
        "Повторимся, альтернативой использованию **transposed convolutional layer** с аргументом `stride=2` или больше может быть применение операций изменения размера (resizing) с интерполяцией типа \"nearest neighbor\", \"bilinear\" или \"bicubic\" и применением свёрточной операции к результату."
      ]
    },
    {
      "cell_type": "markdown",
      "metadata": {
        "id": "a4xXa7AafbdA"
      },
      "source": [
        "### Задание 1:  Описать класс нейросети-автокодировщика, описываемой в этом задании."
      ]
    },
    {
      "cell_type": "code",
      "metadata": {
        "id": "EBz9XhiBfbdA"
      },
      "source": [
        "# define the NN architecture\n",
        "class ConvAutoencoder(nn.Module):\n",
        "    def __init__(self, hidden_dim=32):\n",
        "        super(ConvAutoencoder, self).__init__()\n",
        "        self.embedding = None\n",
        "\n",
        "        ## слои кодировщика ##\n",
        "        self.enc_conv_1 = nn.Conv2d(in_channels=1, out_channels=4, kernel_size=3, stride=1, padding=1)  # 4 x 28 x 28\n",
        "        self.enc_pool_1 = nn.MaxPool2d(kernel_size=2, stride=2)  # 4 x 14 x 14\n",
        "        self.enc_batch_norm_1 = nn.BatchNorm2d(num_features=4)\n",
        "\n",
        "        self.enc_conv_2 = nn.Conv2d(in_channels=4, out_channels=8, kernel_size=3, stride=1, padding=1)  # 8 x 14 x 14\n",
        "        self.enc_pool_2 = nn.MaxPool2d(kernel_size=2, stride=2)  # 8 x 7 x 7\n",
        "        self.enc_batch_norm_2 = nn.BatchNorm2d(num_features=8)\n",
        "\n",
        "        self.flatten = nn.Flatten()  # 1 x 392\n",
        "        self.enc_linear_1 = nn.Linear(in_features=392, out_features=hidden_dim)\n",
        "        \n",
        "        ## слои декодера ##\n",
        "        self.de_linear_1 = nn.Linear(in_features=hidden_dim, out_features=392)\n",
        "\n",
        "        self.de_conv_1 = nn.ConvTranspose2d(in_channels=8, out_channels=4, kernel_size=3, stride=1, padding=1)\n",
        "        self.de_pool_1 = nn.Upsample(scale_factor=2, mode='bilinear')\n",
        "        self.de_batch_norm_1 = nn.BatchNorm2d(num_features=4)\n",
        "\n",
        "        self.de_conv_2 = nn.ConvTranspose2d(in_channels=4, out_channels=1, kernel_size=3, stride=1, padding=1)\n",
        "        self.de_pool_2 = nn.Upsample(scale_factor=2, mode='bilinear')\n",
        "        self.de_batch_norm_2 = nn.BatchNorm2d(num_features=1)\n",
        "\n",
        "    def forward(self, x):\n",
        "        ## операции кодировщика ##\n",
        "        original_shape = x.shape\n",
        "\n",
        "        x = F.relu(self.enc_conv_1(x))  # 4 x 28 x 28\n",
        "        x = self.enc_pool_1(x)  # 4 x 14 x 14\n",
        "        x = self.enc_batch_norm_1(x)  # 4 x 14 x 14\n",
        "\n",
        "        x = F.relu(self.enc_conv_2(x))  # 8 x 14 x 14\n",
        "        x = self.enc_pool_2(x)  # 8 x 7 x 7\n",
        "        x = self.enc_batch_norm_2(x) # 8 x 7 x 7\n",
        "\n",
        "        x_shape = x.shape\n",
        "        x = self.flatten(x)  # 1 x 392\n",
        "        self.embedding = F.relu(self.enc_linear_1(x))  # 1 x hidden_dim\n",
        "\n",
        "        ## операции декодера ##\n",
        "        x = self.de_linear_1(self.embedding)  # 1 x 392\n",
        "        x = x.view(*x_shape)  # 8 x 7 x 7\n",
        "\n",
        "        x = F.relu(self.de_conv_1(x))  # 4 x 7 x 7\n",
        "        x = self.de_pool_1(x)  # 4 x 14 x 14\n",
        "        x = self.de_batch_norm_1(x)  # 4 x 14 x 14        \n",
        "\n",
        "        x = F.relu(self.de_conv_2(x))  # 1 x 14 x 14\n",
        "        x = self.de_pool_2(x)  # 1 x 28 x 28\n",
        "        x = torch.sigmoid(x)  # 1 x 28 x 28\n",
        "\n",
        "        assert original_shape == x.shape, f'{original_shape} != {x.shape}'                        \n",
        "        return x"
      ],
      "execution_count": 13,
      "outputs": []
    },
    {
      "cell_type": "code",
      "metadata": {
        "id": "NxwzcwnZfbdA",
        "colab": {
          "base_uri": "https://localhost:8080/"
        },
        "outputId": "ff66e40a-4b74-4964-98ac-e686cdd30491"
      },
      "source": [
        "model = ConvAutoencoder()\n",
        "print(model)"
      ],
      "execution_count": 14,
      "outputs": [
        {
          "output_type": "stream",
          "text": [
            "ConvAutoencoder(\n",
            "  (enc_conv_1): Conv2d(1, 4, kernel_size=(3, 3), stride=(1, 1), padding=(1, 1))\n",
            "  (enc_pool_1): MaxPool2d(kernel_size=2, stride=2, padding=0, dilation=1, ceil_mode=False)\n",
            "  (enc_batch_norm_1): BatchNorm2d(4, eps=1e-05, momentum=0.1, affine=True, track_running_stats=True)\n",
            "  (enc_conv_2): Conv2d(4, 8, kernel_size=(3, 3), stride=(1, 1), padding=(1, 1))\n",
            "  (enc_pool_2): MaxPool2d(kernel_size=2, stride=2, padding=0, dilation=1, ceil_mode=False)\n",
            "  (enc_batch_norm_2): BatchNorm2d(8, eps=1e-05, momentum=0.1, affine=True, track_running_stats=True)\n",
            "  (flatten): Flatten(start_dim=1, end_dim=-1)\n",
            "  (enc_linear_1): Linear(in_features=392, out_features=32, bias=True)\n",
            "  (de_linear_1): Linear(in_features=32, out_features=392, bias=True)\n",
            "  (de_conv_1): ConvTranspose2d(8, 4, kernel_size=(3, 3), stride=(1, 1), padding=(1, 1))\n",
            "  (de_pool_1): Upsample(scale_factor=2.0, mode=bilinear)\n",
            "  (de_batch_norm_1): BatchNorm2d(4, eps=1e-05, momentum=0.1, affine=True, track_running_stats=True)\n",
            "  (de_conv_2): ConvTranspose2d(4, 1, kernel_size=(3, 3), stride=(1, 1), padding=(1, 1))\n",
            "  (de_pool_2): Upsample(scale_factor=2.0, mode=bilinear)\n",
            "  (de_batch_norm_2): BatchNorm2d(1, eps=1e-05, momentum=0.1, affine=True, track_running_stats=True)\n",
            ")\n"
          ],
          "name": "stdout"
        }
      ]
    },
    {
      "cell_type": "code",
      "metadata": {
        "id": "sI-6il0NfbdB"
      },
      "source": [
        "model = model.to(device)"
      ],
      "execution_count": 15,
      "outputs": []
    },
    {
      "cell_type": "markdown",
      "metadata": {
        "id": "KllFhoyAfbdB"
      },
      "source": [
        "### Задание 2: Напишите пайплайн для предобработки и аугументации данных.\n",
        "\n",
        "В `torchvision.transforms` есть готовые реализации большинства распространённых техник, если вы хотите добавить что-то своё, вы можете воспользоваться `torchvision.transforms.Lambda` или встроить аугментации на этапе подготовки данных в классе `DS`.\n",
        "\n",
        "### Написан выше при помощи `Albumentations`"
      ]
    },
    {
      "cell_type": "markdown",
      "metadata": {
        "id": "oP93NSaefbdB"
      },
      "source": [
        "Всегда имеет смысл посмотреть, как происходит предобработка данных, и как происходит обработка данных нейросетью (если это возможно). В этом ДЗ предлагается визуализировать произвольные примеры из обучающей выборки, а также один из произвольных примеров, обработанных только что созданной (но не обученной) моделью."
      ]
    },
    {
      "cell_type": "markdown",
      "metadata": {
        "id": "9w5TedwEfbdC"
      },
      "source": [
        "### Задание 3: отобразите несколько произвольных примеров обучающей выборки."
      ]
    },
    {
      "cell_type": "code",
      "metadata": {
        "id": "ioubHjQTfbdC",
        "colab": {
          "base_uri": "https://localhost:8080/",
          "height": 579
        },
        "outputId": "852925e7-0c86-44c7-c6b5-2abb317f0b14"
      },
      "source": [
        "NUM = 2\n",
        "fig, ax = plt.subplots(NUM, NUM, figsize=(7, 7))\n",
        "plt.subplots_adjust(left=NUM*(-0.2), bottom=NUM*(-0.1))\n",
        "\n",
        "for i in range(NUM**2):\n",
        "    idx = np.random.randint(low=0, high=len(val_dataset))\n",
        "    image = val_dataset[idx]\n",
        "    \n",
        "    ax[i // NUM, i % NUM].imshow(image.squeeze(), cmap='gray')\n",
        "    ax[i // NUM, i % NUM].set_xticks([])\n",
        "    ax[i // NUM, i % NUM].set_yticks([])\n",
        "    ax[i // NUM, i % NUM].grid(False);"
      ],
      "execution_count": 16,
      "outputs": [
        {
          "output_type": "display_data",
          "data": {
            "image/png": "[encoded data removed]",
            "text/plain": [
              "<Figure size 504x504 with 4 Axes>"
            ]
          },
          "metadata": {
            "tags": []
          }
        }
      ]
    },
    {
      "cell_type": "markdown",
      "metadata": {
        "id": "SEQOmkgKfbdC"
      },
      "source": [
        "### Задание 4: отобразите один произвольный пример обучающей выборки и результат вычисления нейросети на этом примере."
      ]
    },
    {
      "cell_type": "code",
      "metadata": {
        "id": "pvX0LtHbfbdC",
        "colab": {
          "base_uri": "https://localhost:8080/"
        },
        "outputId": "5e0ec194-f0c7-4e73-d6ea-c6e174d7410f"
      },
      "source": [
        "example_index = int(np.random.randint(0, len(train_dataset), size=1))\n",
        "example = train_dataset[example_index]\n",
        "\n",
        "## compute model output for this example;\n",
        "## Transfer the result to CPU and convrt it from tensor to numpy array\n",
        "example_transformed = model(example.unsqueeze(0).to(device))\n"
      ],
      "execution_count": 17,
      "outputs": [
        {
          "output_type": "stream",
          "text": [
            "/usr/local/lib/python3.7/dist-packages/torch/nn/functional.py:3458: UserWarning: Default upsampling behavior when mode=bilinear is changed to align_corners=False since 0.4.0. Please specify align_corners=True if the old behavior is desired. See the documentation of nn.Upsample for details.\n",
            "  \"See the documentation of nn.Upsample for details.\".format(mode)\n"
          ],
          "name": "stderr"
        }
      ]
    },
    {
      "cell_type": "code",
      "metadata": {
        "id": "F3jNVS34fbdC",
        "colab": {
          "base_uri": "https://localhost:8080/",
          "height": 212
        },
        "outputId": "9ea98baa-612d-464a-91cd-a769ae5f9904"
      },
      "source": [
        "fig, ax = plt.subplots(1, 2, figsize=(7, 6))\n",
        "\n",
        "for i, img in enumerate((example, example_transformed)):\n",
        "  img = img.cpu().detach().numpy().squeeze()\n",
        "  ax[i].imshow(img, cmap='gray')\n",
        "  ax[i].grid(False)\n",
        "  ax[i].set_xticks([])\n",
        "  ax[i].set_yticks([])"
      ],
      "execution_count": 18,
      "outputs": [
        {
          "output_type": "display_data",
          "data": {
            "image/png": "[encoded data removed]",
            "text/plain": [
              "<Figure size 504x432 with 2 Axes>"
            ]
          },
          "metadata": {
            "tags": []
          }
        }
      ]
    },
    {
      "cell_type": "markdown",
      "metadata": {
        "id": "WgHVnvIffbdD"
      },
      "source": [
        "### Обучение модели\n",
        "\n",
        "Теперь, когда вы реализовали модель и подготовили данные, можно приступить к непосредственному обучению модели.\n",
        "\n",
        "Костяк функции обучения написан ниже, далее вы должны будете реализовать ключевые части этого алгоритма"
      ]
    },
    {
      "cell_type": "code",
      "metadata": {
        "id": "bAr_LNDufbdD"
      },
      "source": [
        "def train_model(model: torch.nn.Module, \n",
        "                train_dataset: torch.utils.data.Dataset,\n",
        "                val_dataset: torch.utils.data.Dataset,\n",
        "                loss_function: torch.nn.Module = nn.MSELoss(reduction='mean'),\n",
        "                metrics_function: torch.nn.Module=nn.L1Loss(reduction='mean'),\n",
        "                optimizer_class: Type[torch.optim.Optimizer] = torch.optim.Adam,\n",
        "                optimizer_params: Dict = {},\n",
        "                lr_scheduler_class: Any = torch.optim.lr_scheduler.StepLR,\n",
        "                lr_scheduler_params: Dict = {},\n",
        "                batch_size = 64,\n",
        "                max_epochs = 100,\n",
        "                early_stopping_patience = 10\n",
        "):\n",
        "\n",
        "    metrics = {'loss': [], 'metrics': []}\n",
        "\n",
        "    optimizer = optimizer_class(model.parameters(), **optimizer_params)\n",
        "    lr_scheduler = lr_scheduler_class(optimizer, **lr_scheduler_params)\n",
        "    \n",
        "    train_loader = torch.utils.data.DataLoader(train_dataset, shuffle=True, batch_size=batch_size)\n",
        "    val_loader = torch.utils.data.DataLoader(val_dataset, batch_size=batch_size)\n",
        "\n",
        "    best_val_loss = None\n",
        "    best_epoch = None\n",
        "    \n",
        "    for epoch in range(max_epochs):\n",
        "        print(f'Epoch {epoch+1} of {max_epochs}')\n",
        "        train_single_epoch(model, optimizer, loss_function, train_loader)\n",
        "\n",
        "        val_metrics = validate_single_epoch(model, loss_function, metrics_function, val_loader)\n",
        "        metrics['loss'].append(val_metrics['loss'])\n",
        "        metrics['metrics'].append(val_metrics['metrics'])\n",
        "        print(f'Validation metrics: \\n{val_metrics}')\n",
        "\n",
        "        lr_scheduler.step()\n",
        "        \n",
        "        if best_val_loss is None or best_val_loss > val_metrics['loss']:\n",
        "            print(f'Best model yet, saving')\n",
        "            best_val_loss = val_metrics['loss']\n",
        "            best_epoch = epoch\n",
        "            # torch.save(model, './best_model.pth')\n",
        "            \n",
        "        if epoch - best_epoch > early_stopping_patience:\n",
        "            print('Early stopping triggered')\n",
        "            break\n",
        "\n",
        "    return metrics"
      ],
      "execution_count": 19,
      "outputs": []
    },
    {
      "cell_type": "markdown",
      "metadata": {
        "id": "cg6xgoqUfbdD"
      },
      "source": [
        "### Задание 5:  Реализуйте функцию, производящую обучение сети на протяжении одной эпохи ( полного прохода по всей обучающей выборке ). На вход будет приходить модель, оптимизатор, функция потерь и объект типа `DataLoader`.\n",
        "> ВНИМАНИЕ!!! В задаче обучения автокодировщика нет меток-цифр. Есть только входные примеры. При итерировании по `data_loader` вы будете получать только сами примеры! Подумайте, что должно выступать в качестве целевой переменной, когда вы вычисляете функцию потерь."
      ]
    },
    {
      "cell_type": "code",
      "metadata": {
        "id": "XC8DgqgSfbdD"
      },
      "source": [
        "def train_single_epoch(model: torch.nn.Module,\n",
        "                       optimizer: torch.optim.Optimizer, \n",
        "                       loss_function: torch.nn.Module, \n",
        "                       data_loader: torch.utils.data.DataLoader):\n",
        "    \n",
        "    model.train()\n",
        "    for X in data_loader: \n",
        "        # send data on correct device type\n",
        "        X = X.to(device)\n",
        "\n",
        "        # vanish gradient\n",
        "        optimizer.zero_grad()\n",
        "\n",
        "        # forward-pass\n",
        "        X_pred = model(X)  \n",
        "\n",
        "        # calculating loss value\n",
        "        loss = loss_function(X_pred, X)\n",
        "        \n",
        "        # backward-pass\n",
        "        loss.backward()\n",
        "\n",
        "        # optimization step\n",
        "        optimizer.step() "
      ],
      "execution_count": 20,
      "outputs": []
    },
    {
      "cell_type": "markdown",
      "metadata": {
        "id": "mmOb43c7fbdD"
      },
      "source": [
        "### Задание 6:  Реализуйте функцию производящую расчёт функции потерь на тестовой выборке.  На вход будет приходить модель, функция потерь и DataLoader. На выходе ожидается словарь с вида:\n",
        "```\n",
        "{\n",
        "    'loss': <среднее значение функции потерь>,\n",
        "    'accuracy': <среднее значение точности модели>\n",
        "}\n",
        "```"
      ]
    },
    {
      "cell_type": "code",
      "metadata": {
        "id": "kCijvqLofbdE"
      },
      "source": [
        "def validate_single_epoch(model: torch.nn.Module,\n",
        "                          loss_function: torch.nn.Module,\n",
        "                          metric_function: torch.nn.Module, \n",
        "                          data_loader: torch.utils.data.DataLoader):\n",
        "    \n",
        "    model.eval()\n",
        "    test_loss = 0.0\n",
        "    running_loss = 0.0\n",
        "    running_metrics = 0.0\n",
        "\n",
        "    with torch.no_grad():\n",
        "        for X in data_loader:\n",
        "            # send data on correct device type\n",
        "            X = X.to(device)\n",
        "\n",
        "            # forward-pass\n",
        "            X_pred = model(X)\n",
        "\n",
        "            # accumulating statistics\n",
        "            running_loss += loss_function(X_pred, X).item()\n",
        "            running_metrics += metric_function(X_pred, X).item()\n",
        "    \n",
        "    return {\n",
        "        'loss': running_loss / (RESIZE_SHAPE[0]*RESIZE_SHAPE[1]),\n",
        "        'metrics': running_metrics / (RESIZE_SHAPE[0]*RESIZE_SHAPE[1]),\n",
        "    }"
      ],
      "execution_count": 21,
      "outputs": []
    },
    {
      "cell_type": "markdown",
      "metadata": {
        "id": "T3J8IiANfbdE"
      },
      "source": [
        "Если вы корректно реализовали все предыдущие шаги и ваша модель имеет достаточное количество обучаемых параметров, то в следующей ячейке должен пойти процесс обучения."
      ]
    },
    {
      "cell_type": "markdown",
      "metadata": {
        "id": "WiARTyMgfbdE"
      },
      "source": [
        "### Задание 7: придумайте функцию потерь.\n",
        "\n",
        "Обратите внимание, что в предложенном скелетном коде функция потерь по умолчанию прописана неверно. Вы, скорее всего, не сможете обучить автокодировщик с этой функцией потерь. Подумайте, какая должна быть функция потерь при условии, что она должна оценивать качество воспроизведения значений в каждом отдельном пикселе изображения. Впишите в ячейке ниже правильную функцию потерь. Подумайте, можно ли использовать уже предложенную функцию потерь, и что нужно сделать с данными, чтобы с ней можно было обучить вашу модель.\n",
        "\n",
        "## **Ответ**:\n",
        "\n",
        "Да, на мой взгляд тоже, кросс-энтропия не подходит для решения задачи, так как по своей задумке, кросс-энтропия используется в том случае, когда ответ алгоритма - вероятность принадлежности классу `y`.\n",
        "\n",
        "Но ведь у нас же, хотя значение пикселя и лежит от нуля до единицы, но не является вероятностью, так как при такой интерпретации, единица отвечала бы тому, что пиксель белый, а ноль - черный. Но на изначальном изображении, яркости пискелей принимают не бинарное значение, а непрерывное в отрезке [0, 1]. Поэтому по своей сути мы решаем задачу *регрессии*, а не классификации.\n",
        "\n",
        "\n",
        "В таком случае, я предлагаю использовать `pixel-wise MSE`.\n",
        "\n",
        "\n",
        "Впрочем, кросс-энтропию тоже можно было бы использовать, если, например, преобразовать исходные данные таким образом, что они принимали бы лишь значения вида 0.0, 0.1, 0.2,... 1.0. Тогда бы это уже была классификация."
      ]
    },
    {
      "cell_type": "code",
      "metadata": {
        "id": "Da0xOBHcfbdE",
        "colab": {
          "base_uri": "https://localhost:8080/"
        },
        "outputId": "645cb4b8-9814-4bcf-8417-a9b43eb78e01"
      },
      "source": [
        "metrics = train_model(model, \n",
        "            train_dataset=train_dataset, \n",
        "            val_dataset=val_dataset,\n",
        "            optimizer_params={'lr': 1e-2},\n",
        "            lr_scheduler_params={'step_size': 60}, \n",
        "            batch_size=BATCH_SIZE,\n",
        "            max_epochs=200)"
      ],
      "execution_count": 22,
      "outputs": [
        {
          "output_type": "stream",
          "text": [
            "Epoch 1 of 200\n"
          ],
          "name": "stdout"
        },
        {
          "output_type": "stream",
          "text": [
            "/usr/local/lib/python3.7/dist-packages/torch/nn/functional.py:3458: UserWarning: Default upsampling behavior when mode=bilinear is changed to align_corners=False since 0.4.0. Please specify align_corners=True if the old behavior is desired. See the documentation of nn.Upsample for details.\n",
            "  \"See the documentation of nn.Upsample for details.\".format(mode)\n"
          ],
          "name": "stderr"
        },
        {
          "output_type": "stream",
          "text": [
            "Validation metrics: \n",
            "{'loss': 0.006420072073078886, 'metrics': 0.013567481075926703}\n",
            "Best model yet, saving\n",
            "Epoch 2 of 200\n",
            "Validation metrics: \n",
            "{'loss': 0.006366890703080868, 'metrics': 0.013481628263787347}\n",
            "Best model yet, saving\n",
            "Epoch 3 of 200\n",
            "Validation metrics: \n",
            "{'loss': 0.006346111299888212, 'metrics': 0.013428432220707134}\n",
            "Best model yet, saving\n",
            "Epoch 4 of 200\n",
            "Validation metrics: \n",
            "{'loss': 0.00633398819790811, 'metrics': 0.013415896428786978}\n",
            "Best model yet, saving\n",
            "Epoch 5 of 200\n",
            "Validation metrics: \n",
            "{'loss': 0.006335926489258299, 'metrics': 0.013359422966533778}\n",
            "Epoch 6 of 200\n",
            "Validation metrics: \n",
            "{'loss': 0.0063232653679288165, 'metrics': 0.013378818120275224}\n",
            "Best model yet, saving\n",
            "Epoch 7 of 200\n",
            "Validation metrics: \n",
            "{'loss': 0.006316711460905415, 'metrics': 0.013351644294298425}\n",
            "Best model yet, saving\n",
            "Epoch 8 of 200\n",
            "Validation metrics: \n",
            "{'loss': 0.006323257651256055, 'metrics': 0.013403266212161707}\n",
            "Epoch 9 of 200\n",
            "Validation metrics: \n",
            "{'loss': 0.006312744235809968, 'metrics': 0.013339340838850761}\n",
            "Best model yet, saving\n",
            "Epoch 10 of 200\n",
            "Validation metrics: \n",
            "{'loss': 0.006309104950300285, 'metrics': 0.013341558717039168}\n",
            "Best model yet, saving\n",
            "Epoch 11 of 200\n",
            "Validation metrics: \n",
            "{'loss': 0.006309985487284709, 'metrics': 0.01332962364718622}\n",
            "Epoch 12 of 200\n",
            "Validation metrics: \n",
            "{'loss': 0.006320243207167606, 'metrics': 0.013304727684174265}\n",
            "Epoch 13 of 200\n",
            "Validation metrics: \n",
            "{'loss': 0.006304801308682987, 'metrics': 0.013342385655459093}\n",
            "Best model yet, saving\n",
            "Epoch 14 of 200\n",
            "Validation metrics: \n",
            "{'loss': 0.0063075551154966256, 'metrics': 0.013301104383201015}\n",
            "Epoch 15 of 200\n",
            "Validation metrics: \n",
            "{'loss': 0.006298945000281139, 'metrics': 0.013313360170138126}\n",
            "Best model yet, saving\n",
            "Epoch 16 of 200\n",
            "Validation metrics: \n",
            "{'loss': 0.0062980180872338155, 'metrics': 0.013317295445167288}\n",
            "Best model yet, saving\n",
            "Epoch 17 of 200\n",
            "Validation metrics: \n",
            "{'loss': 0.006296816281974316, 'metrics': 0.013326157340589834}\n",
            "Best model yet, saving\n",
            "Epoch 18 of 200\n",
            "Validation metrics: \n",
            "{'loss': 0.006297043315610107, 'metrics': 0.013332059454857086}\n",
            "Epoch 19 of 200\n",
            "Validation metrics: \n",
            "{'loss': 0.00629778873479488, 'metrics': 0.013337131437598442}\n",
            "Epoch 20 of 200\n",
            "Validation metrics: \n",
            "{'loss': 0.006295361366046935, 'metrics': 0.013325489943428916}\n",
            "Best model yet, saving\n",
            "Epoch 21 of 200\n",
            "Validation metrics: \n",
            "{'loss': 0.006298535674506304, 'metrics': 0.01330485704297922}\n",
            "Epoch 22 of 200\n",
            "Validation metrics: \n",
            "{'loss': 0.006295488805186992, 'metrics': 0.01331369438189633}\n",
            "Epoch 23 of 200\n",
            "Validation metrics: \n",
            "{'loss': 0.006294416681844361, 'metrics': 0.013316173828682122}\n",
            "Best model yet, saving\n",
            "Epoch 24 of 200\n",
            "Validation metrics: \n",
            "{'loss': 0.006293436455331287, 'metrics': 0.01331366419944228}\n",
            "Best model yet, saving\n",
            "Epoch 25 of 200\n",
            "Validation metrics: \n",
            "{'loss': 0.0062949509949100264, 'metrics': 0.013337778497715386}\n",
            "Epoch 26 of 200\n",
            "Validation metrics: \n",
            "{'loss': 0.006295272757356264, 'metrics': 0.013327046202457681}\n",
            "Epoch 27 of 200\n",
            "Validation metrics: \n",
            "{'loss': 0.006293411442667854, 'metrics': 0.013304823705432366}\n",
            "Best model yet, saving\n",
            "Epoch 28 of 200\n",
            "Validation metrics: \n",
            "{'loss': 0.006291691232852789, 'metrics': 0.013313388756039192}\n",
            "Best model yet, saving\n",
            "Epoch 29 of 200\n",
            "Validation metrics: \n",
            "{'loss': 0.006293920305918674, 'metrics': 0.01332639933240657}\n",
            "Epoch 30 of 200\n",
            "Validation metrics: \n",
            "{'loss': 0.006294403472269068, 'metrics': 0.013283841007826279}\n",
            "Epoch 31 of 200\n",
            "Validation metrics: \n",
            "{'loss': 0.006291925355944098, 'metrics': 0.013313070433784505}\n",
            "Epoch 32 of 200\n",
            "Validation metrics: \n",
            "{'loss': 0.006291209872127796, 'metrics': 0.013294191232749395}\n",
            "Best model yet, saving\n",
            "Epoch 33 of 200\n",
            "Validation metrics: \n",
            "{'loss': 0.006292538432290359, 'metrics': 0.013317657444550067}\n",
            "Epoch 34 of 200\n",
            "Validation metrics: \n",
            "{'loss': 0.006290720585657626, 'metrics': 0.013317254885118835}\n",
            "Best model yet, saving\n",
            "Epoch 35 of 200\n",
            "Validation metrics: \n",
            "{'loss': 0.006292227978761099, 'metrics': 0.013316182875815702}\n",
            "Epoch 36 of 200\n",
            "Validation metrics: \n",
            "{'loss': 0.006291376844960816, 'metrics': 0.013282640818126348}\n",
            "Epoch 37 of 200\n",
            "Validation metrics: \n",
            "{'loss': 0.006291088743173346, 'metrics': 0.01328675661768232}\n",
            "Epoch 38 of 200\n",
            "Validation metrics: \n",
            "{'loss': 0.0062921505269347405, 'metrics': 0.0133009315373338}\n",
            "Epoch 39 of 200\n",
            "Validation metrics: \n",
            "{'loss': 0.006289718330514674, 'metrics': 0.013293326889373819}\n",
            "Best model yet, saving\n",
            "Epoch 40 of 200\n",
            "Validation metrics: \n",
            "{'loss': 0.006288450021220714, 'metrics': 0.013295458857806362}\n",
            "Best model yet, saving\n",
            "Epoch 41 of 200\n",
            "Validation metrics: \n",
            "{'loss': 0.006289039263311698, 'metrics': 0.013289236178507611}\n",
            "Epoch 42 of 200\n",
            "Validation metrics: \n",
            "{'loss': 0.006291688723983813, 'metrics': 0.01329473603744896}\n",
            "Epoch 43 of 200\n",
            "Validation metrics: \n",
            "{'loss': 0.0062886210234493626, 'metrics': 0.013292948658369025}\n",
            "Epoch 44 of 200\n",
            "Validation metrics: \n",
            "{'loss': 0.006290652694142595, 'metrics': 0.013317686904753958}\n",
            "Epoch 45 of 200\n",
            "Validation metrics: \n",
            "{'loss': 0.006289132433582326, 'metrics': 0.013299017840502213}\n",
            "Epoch 46 of 200\n",
            "Validation metrics: \n",
            "{'loss': 0.006289620598664089, 'metrics': 0.013289337939753825}\n",
            "Epoch 47 of 200\n",
            "Validation metrics: \n",
            "{'loss': 0.006288556762191714, 'metrics': 0.013294382971160265}\n",
            "Epoch 48 of 200\n",
            "Validation metrics: \n",
            "{'loss': 0.006287922037347239, 'metrics': 0.01330778782008862}\n",
            "Best model yet, saving\n",
            "Epoch 49 of 200\n",
            "Validation metrics: \n",
            "{'loss': 0.006288091081897824, 'metrics': 0.013298389862994758}\n",
            "Epoch 50 of 200\n",
            "Validation metrics: \n",
            "{'loss': 0.006287668147409449, 'metrics': 0.013297641687855428}\n",
            "Best model yet, saving\n",
            "Epoch 51 of 200\n",
            "Validation metrics: \n",
            "{'loss': 0.006286928373179874, 'metrics': 0.013296437696838866}\n",
            "Best model yet, saving\n",
            "Epoch 52 of 200\n",
            "Validation metrics: \n",
            "{'loss': 0.006288353714863865, 'metrics': 0.013297868968576801}\n",
            "Epoch 53 of 200\n",
            "Validation metrics: \n",
            "{'loss': 0.006288686729207331, 'metrics': 0.013310700312865024}\n",
            "Epoch 54 of 200\n",
            "Validation metrics: \n",
            "{'loss': 0.006287696391192018, 'metrics': 0.013309153633154169}\n",
            "Epoch 55 of 200\n",
            "Validation metrics: \n",
            "{'loss': 0.00628735927142659, 'metrics': 0.013306191685248395}\n",
            "Epoch 56 of 200\n",
            "Validation metrics: \n",
            "{'loss': 0.006287196537061613, 'metrics': 0.013311063984827119}\n",
            "Epoch 57 of 200\n",
            "Validation metrics: \n",
            "{'loss': 0.006286432035267353, 'metrics': 0.01329173531611355}\n",
            "Best model yet, saving\n",
            "Epoch 58 of 200\n",
            "Validation metrics: \n",
            "{'loss': 0.006289935765825972, 'metrics': 0.013282903603145055}\n",
            "Epoch 59 of 200\n",
            "Validation metrics: \n",
            "{'loss': 0.006287500737425016, 'metrics': 0.013286284342104075}\n",
            "Epoch 60 of 200\n",
            "Validation metrics: \n",
            "{'loss': 0.006287301434394048, 'metrics': 0.013308969459363393}\n",
            "Epoch 61 of 200\n",
            "Validation metrics: \n",
            "{'loss': 0.006283939359899686, 'metrics': 0.013294401179466928}\n",
            "Best model yet, saving\n",
            "Epoch 62 of 200\n",
            "Validation metrics: \n",
            "{'loss': 0.0062838022083956365, 'metrics': 0.013295641397030987}\n",
            "Best model yet, saving\n",
            "Epoch 63 of 200\n",
            "Validation metrics: \n",
            "{'loss': 0.0062837889227940116, 'metrics': 0.013295045730714895}\n",
            "Best model yet, saving\n",
            "Epoch 64 of 200\n",
            "Validation metrics: \n",
            "{'loss': 0.006283741520375622, 'metrics': 0.013295489306352576}\n",
            "Best model yet, saving\n",
            "Epoch 65 of 200\n",
            "Validation metrics: \n",
            "{'loss': 0.0062837117560664004, 'metrics': 0.01329540643765002}\n",
            "Best model yet, saving\n",
            "Epoch 66 of 200\n",
            "Validation metrics: \n",
            "{'loss': 0.006283755357168159, 'metrics': 0.0132970785608097}\n",
            "Epoch 67 of 200\n",
            "Validation metrics: \n",
            "{'loss': 0.006283709570309337, 'metrics': 0.013296186771928047}\n",
            "Best model yet, saving\n",
            "Epoch 68 of 200\n",
            "Validation metrics: \n",
            "{'loss': 0.0062837125353363095, 'metrics': 0.013296413900596755}\n",
            "Epoch 69 of 200\n",
            "Validation metrics: \n",
            "{'loss': 0.006283768509723702, 'metrics': 0.013292092107692543}\n",
            "Epoch 70 of 200\n",
            "Validation metrics: \n",
            "{'loss': 0.006283707232499609, 'metrics': 0.013298468170117358}\n",
            "Best model yet, saving\n",
            "Epoch 71 of 200\n",
            "Validation metrics: \n",
            "{'loss': 0.0062836679839053935, 'metrics': 0.013293431691673338}\n",
            "Best model yet, saving\n",
            "Epoch 72 of 200\n",
            "Validation metrics: \n",
            "{'loss': 0.006283915525644409, 'metrics': 0.013295766802466646}\n",
            "Epoch 73 of 200\n",
            "Validation metrics: \n",
            "{'loss': 0.006283611781439003, 'metrics': 0.0132904088846883}\n",
            "Best model yet, saving\n",
            "Epoch 74 of 200\n",
            "Validation metrics: \n",
            "{'loss': 0.006283603779667494, 'metrics': 0.013291615688679169}\n",
            "Best model yet, saving\n",
            "Epoch 75 of 200\n",
            "Validation metrics: \n",
            "{'loss': 0.006283602962384419, 'metrics': 0.013292026725046488}\n",
            "Best model yet, saving\n",
            "Epoch 76 of 200\n",
            "Validation metrics: \n",
            "{'loss': 0.006283634551325623, 'metrics': 0.013289219604767099}\n",
            "Epoch 77 of 200\n",
            "Validation metrics: \n",
            "{'loss': 0.006283438175308461, 'metrics': 0.01329590904773498}\n",
            "Best model yet, saving\n",
            "Epoch 78 of 200\n",
            "Validation metrics: \n",
            "{'loss': 0.0062834760174155235, 'metrics': 0.013292434606321004}\n",
            "Epoch 79 of 200\n",
            "Validation metrics: \n",
            "{'loss': 0.006283554267518374, 'metrics': 0.013293985885624983}\n",
            "Epoch 80 of 200\n",
            "Validation metrics: \n",
            "{'loss': 0.006283655002409098, 'metrics': 0.01329628678456861}\n",
            "Epoch 81 of 200\n",
            "Validation metrics: \n",
            "{'loss': 0.006283559874460405, 'metrics': 0.013291984188313387}\n",
            "Epoch 82 of 200\n",
            "Validation metrics: \n",
            "{'loss': 0.006283444770592816, 'metrics': 0.013291060050227205}\n",
            "Epoch 83 of 200\n",
            "Validation metrics: \n",
            "{'loss': 0.006283386762501026, 'metrics': 0.013290915980326886}\n",
            "Best model yet, saving\n",
            "Epoch 84 of 200\n",
            "Validation metrics: \n",
            "{'loss': 0.0062835470450167755, 'metrics': 0.013295465396070967}\n",
            "Epoch 85 of 200\n",
            "Validation metrics: \n",
            "{'loss': 0.006283521500169014, 'metrics': 0.013292382870401655}\n",
            "Epoch 86 of 200\n",
            "Validation metrics: \n",
            "{'loss': 0.006283477347876344, 'metrics': 0.013289298063942365}\n",
            "Epoch 87 of 200\n",
            "Validation metrics: \n",
            "{'loss': 0.006283479761712405, 'metrics': 0.01329042732107396}\n",
            "Epoch 88 of 200\n",
            "Validation metrics: \n",
            "{'loss': 0.006283508157547639, 'metrics': 0.013295822149636795}\n",
            "Epoch 89 of 200\n",
            "Validation metrics: \n",
            "{'loss': 0.006283657872403155, 'metrics': 0.013293298113406921}\n",
            "Epoch 90 of 200\n",
            "Validation metrics: \n",
            "{'loss': 0.0062833128649057175, 'metrics': 0.01328990737698516}\n",
            "Best model yet, saving\n",
            "Epoch 91 of 200\n",
            "Validation metrics: \n",
            "{'loss': 0.006283545011312378, 'metrics': 0.013285522444211707}\n",
            "Epoch 92 of 200\n",
            "Validation metrics: \n",
            "{'loss': 0.006283294580572722, 'metrics': 0.01329552028708312}\n",
            "Best model yet, saving\n",
            "Epoch 93 of 200\n",
            "Validation metrics: \n",
            "{'loss': 0.0062832078535337834, 'metrics': 0.01329517026184773}\n",
            "Best model yet, saving\n",
            "Epoch 94 of 200\n",
            "Validation metrics: \n",
            "{'loss': 0.006283364296719736, 'metrics': 0.013298456005904138}\n",
            "Epoch 95 of 200\n",
            "Validation metrics: \n",
            "{'loss': 0.00628341829442248, 'metrics': 0.0132895541586438}\n",
            "Epoch 96 of 200\n",
            "Validation metrics: \n",
            "{'loss': 0.006283287129992125, 'metrics': 0.0132920361903249}\n",
            "Epoch 97 of 200\n",
            "Validation metrics: \n",
            "{'loss': 0.006283284621123149, 'metrics': 0.013289998342492143}\n",
            "Epoch 98 of 200\n",
            "Validation metrics: \n",
            "{'loss': 0.006283155262318193, 'metrics': 0.013292542297621163}\n",
            "Best model yet, saving\n",
            "Epoch 99 of 200\n",
            "Validation metrics: \n",
            "{'loss': 0.006283120784376349, 'metrics': 0.01329055458915477}\n",
            "Best model yet, saving\n",
            "Epoch 100 of 200\n",
            "Validation metrics: \n",
            "{'loss': 0.00628334390265601, 'metrics': 0.013291021200771235}\n",
            "Epoch 101 of 200\n",
            "Validation metrics: \n",
            "{'loss': 0.006283240316777813, 'metrics': 0.013294110454770983}\n",
            "Epoch 102 of 200\n",
            "Validation metrics: \n",
            "{'loss': 0.006283260425742791, 'metrics': 0.013290974710668837}\n",
            "Epoch 103 of 200\n",
            "Validation metrics: \n",
            "{'loss': 0.006283398812674746, 'metrics': 0.013299579485034456}\n",
            "Epoch 104 of 200\n",
            "Validation metrics: \n",
            "{'loss': 0.006283356447000892, 'metrics': 0.013295848758853212}\n",
            "Epoch 105 of 200\n",
            "Validation metrics: \n",
            "{'loss': 0.0062831640813727765, 'metrics': 0.013290694173501462}\n",
            "Epoch 106 of 200\n",
            "Validation metrics: \n",
            "{'loss': 0.006283229806137328, 'metrics': 0.013290591081794428}\n",
            "Epoch 107 of 200\n",
            "Validation metrics: \n",
            "{'loss': 0.006283091647284371, 'metrics': 0.013293947986498172}\n",
            "Best model yet, saving\n",
            "Epoch 108 of 200\n",
            "Validation metrics: \n",
            "{'loss': 0.006283393585864379, 'metrics': 0.013291757629842174}\n",
            "Epoch 109 of 200\n",
            "Validation metrics: \n",
            "{'loss': 0.0062830881310664876, 'metrics': 0.013292340713800217}\n",
            "Best model yet, saving\n",
            "Epoch 110 of 200\n",
            "Validation metrics: \n",
            "{'loss': 0.006283087275770246, 'metrics': 0.013286911103190208}\n",
            "Best model yet, saving\n",
            "Epoch 111 of 200\n",
            "Validation metrics: \n",
            "{'loss': 0.006283008740568648, 'metrics': 0.01329219322271493}\n",
            "Best model yet, saving\n",
            "Epoch 112 of 200\n",
            "Validation metrics: \n",
            "{'loss': 0.006283358404678958, 'metrics': 0.013284775713572696}\n",
            "Epoch 113 of 200\n",
            "Validation metrics: \n",
            "{'loss': 0.006283151651067393, 'metrics': 0.013292214434061731}\n",
            "Epoch 114 of 200\n",
            "Validation metrics: \n",
            "{'loss': 0.006283255788136502, 'metrics': 0.01329689453907159}\n",
            "Epoch 115 of 200\n",
            "Validation metrics: \n",
            "{'loss': 0.006283097159193486, 'metrics': 0.013291834378424955}\n",
            "Epoch 116 of 200\n",
            "Validation metrics: \n",
            "{'loss': 0.006283087427822911, 'metrics': 0.01328812562385384}\n",
            "Epoch 117 of 200\n",
            "Validation metrics: \n",
            "{'loss': 0.00628324848960857, 'metrics': 0.013287718768934814}\n",
            "Epoch 118 of 200\n",
            "Validation metrics: \n",
            "{'loss': 0.006282963847019234, 'metrics': 0.013289691804319012}\n",
            "Best model yet, saving\n",
            "Epoch 119 of 200\n",
            "Validation metrics: \n",
            "{'loss': 0.006283001803165796, 'metrics': 0.013291935683513174}\n",
            "Epoch 120 of 200\n",
            "Validation metrics: \n",
            "{'loss': 0.006283051980545326, 'metrics': 0.013288097418084437}\n",
            "Epoch 121 of 200\n",
            "Validation metrics: \n",
            "{'loss': 0.006282660577978406, 'metrics': 0.013291171238738663}\n",
            "Best model yet, saving\n",
            "Epoch 122 of 200\n",
            "Validation metrics: \n",
            "{'loss': 0.006282667002203513, 'metrics': 0.013290525471069375}\n",
            "Epoch 123 of 200\n",
            "Validation metrics: \n",
            "{'loss': 0.006282646950258285, 'metrics': 0.013290922062433496}\n",
            "Best model yet, saving\n",
            "Epoch 124 of 200\n",
            "Validation metrics: \n",
            "{'loss': 0.006282662155524809, 'metrics': 0.013290241816822363}\n",
            "Epoch 125 of 200\n",
            "Validation metrics: \n",
            "{'loss': 0.006282639480671104, 'metrics': 0.013291779791518134}\n",
            "Best model yet, saving\n",
            "Epoch 126 of 200\n",
            "Validation metrics: \n",
            "{'loss': 0.006282711933766093, 'metrics': 0.013296223454633537}\n",
            "Epoch 127 of 200\n",
            "Validation metrics: \n",
            "{'loss': 0.006282629198109617, 'metrics': 0.013291194996967608}\n",
            "Best model yet, saving\n",
            "Epoch 128 of 200\n",
            "Validation metrics: \n",
            "{'loss': 0.006282660007780912, 'metrics': 0.013289597493653394}\n",
            "Epoch 129 of 200\n",
            "Validation metrics: \n",
            "{'loss': 0.006282649915285257, 'metrics': 0.01329279683378278}\n",
            "Epoch 130 of 200\n",
            "Validation metrics: \n",
            "{'loss': 0.006282646589133204, 'metrics': 0.013292217361075538}\n",
            "Epoch 131 of 200\n",
            "Validation metrics: \n",
            "{'loss': 0.006282649763232591, 'metrics': 0.013293788445239164}\n",
            "Epoch 132 of 200\n",
            "Validation metrics: \n",
            "{'loss': 0.006282627753609297, 'metrics': 0.013291829360687003}\n",
            "Best model yet, saving\n",
            "Epoch 133 of 200\n",
            "Validation metrics: \n",
            "{'loss': 0.006282618440383551, 'metrics': 0.013291489941125013}\n",
            "Best model yet, saving\n",
            "Epoch 134 of 200\n",
            "Validation metrics: \n",
            "{'loss': 0.0062826261190431455, 'metrics': 0.013293405766693913}\n",
            "Epoch 135 of 200\n",
            "Validation metrics: \n",
            "{'loss': 0.006282616311646238, 'metrics': 0.013291524951251186}\n",
            "Best model yet, saving\n",
            "Epoch 136 of 200\n",
            "Validation metrics: \n",
            "{'loss': 0.006282640069875182, 'metrics': 0.01329394810053767}\n",
            "Epoch 137 of 200\n",
            "Validation metrics: \n",
            "{'loss': 0.006282628684931872, 'metrics': 0.013290286596332277}\n",
            "Epoch 138 of 200\n",
            "Validation metrics: \n",
            "{'loss': 0.00628262355315442, 'metrics': 0.013292249558227403}\n",
            "Epoch 139 of 200\n",
            "Validation metrics: \n",
            "{'loss': 0.006282615646415827, 'metrics': 0.01329295880788443}\n",
            "Best model yet, saving\n",
            "Epoch 140 of 200\n",
            "Validation metrics: \n",
            "{'loss': 0.006282610495631792, 'metrics': 0.013290697404620598}\n",
            "Best model yet, saving\n",
            "Epoch 141 of 200\n",
            "Validation metrics: \n",
            "{'loss': 0.006282606713321744, 'metrics': 0.01329309698574397}\n",
            "Best model yet, saving\n",
            "Epoch 142 of 200\n",
            "Validation metrics: \n",
            "{'loss': 0.00628260861398006, 'metrics': 0.013289737420118585}\n",
            "Epoch 143 of 200\n",
            "Validation metrics: \n",
            "{'loss': 0.0062826184974033, 'metrics': 0.013290344870516233}\n",
            "Epoch 144 of 200\n",
            "Validation metrics: \n",
            "{'loss': 0.006282608043782565, 'metrics': 0.01329166658830886}\n",
            "Epoch 145 of 200\n",
            "Validation metrics: \n",
            "{'loss': 0.006282626860299889, 'metrics': 0.013292034251653418}\n",
            "Epoch 146 of 200\n",
            "Validation metrics: \n",
            "{'loss': 0.006282655389181205, 'metrics': 0.013288443756042694}\n",
            "Epoch 147 of 200\n",
            "Validation metrics: \n",
            "{'loss': 0.006282603292136776, 'metrics': 0.013291941955685616}\n",
            "Best model yet, saving\n",
            "Epoch 148 of 200\n",
            "Validation metrics: \n",
            "{'loss': 0.0062826060480913335, 'metrics': 0.013291165346697885}\n",
            "Epoch 149 of 200\n",
            "Validation metrics: \n",
            "{'loss': 0.00628260566795967, 'metrics': 0.013293187951250953}\n",
            "Epoch 150 of 200\n",
            "Validation metrics: \n",
            "{'loss': 0.006282578051394346, 'metrics': 0.01329257685158934}\n",
            "Best model yet, saving\n",
            "Epoch 151 of 200\n",
            "Validation metrics: \n",
            "{'loss': 0.0062825938648715315, 'metrics': 0.013290552498430622}\n",
            "Epoch 152 of 200\n",
            "Validation metrics: \n",
            "{'loss': 0.006282615342310497, 'metrics': 0.013288947278443647}\n",
            "Epoch 153 of 200\n",
            "Validation metrics: \n",
            "{'loss': 0.00628260964033555, 'metrics': 0.013290683757893893}\n",
            "Epoch 154 of 200\n",
            "Validation metrics: \n",
            "{'loss': 0.00628264379516548, 'metrics': 0.013293318298398232}\n",
            "Epoch 155 of 200\n",
            "Validation metrics: \n",
            "{'loss': 0.006282601752603541, 'metrics': 0.013289794591920716}\n",
            "Epoch 156 of 200\n",
            "Validation metrics: \n",
            "{'loss': 0.006282596373740508, 'metrics': 0.013293342208679842}\n",
            "Epoch 157 of 200\n",
            "Validation metrics: \n",
            "{'loss': 0.00628259681089192, 'metrics': 0.013293678891293856}\n",
            "Epoch 158 of 200\n",
            "Validation metrics: \n",
            "{'loss': 0.006282622754877927, 'metrics': 0.013290158111830147}\n",
            "Epoch 159 of 200\n",
            "Validation metrics: \n",
            "{'loss': 0.006282574649215961, 'metrics': 0.013290460658620815}\n",
            "Best model yet, saving\n",
            "Epoch 160 of 200\n",
            "Validation metrics: \n",
            "{'loss': 0.006282611255895118, 'metrics': 0.013293338977560704}\n",
            "Epoch 161 of 200\n",
            "Validation metrics: \n",
            "{'loss': 0.006282643871191813, 'metrics': 0.013295682451250602}\n",
            "Epoch 162 of 200\n",
            "Validation metrics: \n",
            "{'loss': 0.006282591888186883, 'metrics': 0.013291607135716749}\n",
            "Epoch 163 of 200\n",
            "Validation metrics: \n",
            "{'loss': 0.006282570277701835, 'metrics': 0.013293887241458406}\n",
            "Best model yet, saving\n",
            "Epoch 164 of 200\n",
            "Validation metrics: \n",
            "{'loss': 0.006282589968521984, 'metrics': 0.013291633060696174}\n",
            "Epoch 165 of 200\n",
            "Validation metrics: \n",
            "{'loss': 0.006282635033130646, 'metrics': 0.013288231718601013}\n",
            "Epoch 166 of 200\n",
            "Validation metrics: \n",
            "{'loss': 0.006282559596002102, 'metrics': 0.013291151205800017}\n",
            "Best model yet, saving\n",
            "Epoch 167 of 200\n",
            "Validation metrics: \n",
            "{'loss': 0.006282584171514122, 'metrics': 0.013290582642871506}\n",
            "Epoch 168 of 200\n",
            "Validation metrics: \n",
            "{'loss': 0.006282614544034004, 'metrics': 0.013289318895157503}\n",
            "Epoch 169 of 200\n",
            "Validation metrics: \n",
            "{'loss': 0.006282555338527475, 'metrics': 0.013291318121613289}\n",
            "Best model yet, saving\n",
            "Epoch 170 of 200\n",
            "Validation metrics: \n",
            "{'loss': 0.006282573299748557, 'metrics': 0.013290350230372682}\n",
            "Epoch 171 of 200\n",
            "Validation metrics: \n",
            "{'loss': 0.006282615912507991, 'metrics': 0.013288154475847068}\n",
            "Epoch 172 of 200\n",
            "Validation metrics: \n",
            "{'loss': 0.006282599452806979, 'metrics': 0.013288560722555433}\n",
            "Epoch 173 of 200\n",
            "Validation metrics: \n",
            "{'loss': 0.006282575922657033, 'metrics': 0.013292550850583583}\n",
            "Epoch 174 of 200\n",
            "Validation metrics: \n",
            "{'loss': 0.006282586110185603, 'metrics': 0.013292489079188327}\n",
            "Epoch 175 of 200\n",
            "Validation metrics: \n",
            "{'loss': 0.00628257717709152, 'metrics': 0.013290326396117404}\n",
            "Epoch 176 of 200\n",
            "Validation metrics: \n",
            "{'loss': 0.006282563948509645, 'metrics': 0.01329061362360205}\n",
            "Epoch 177 of 200\n",
            "Validation metrics: \n",
            "{'loss': 0.0062825678448591915, 'metrics': 0.013290530488807328}\n",
            "Epoch 178 of 200\n",
            "Validation metrics: \n",
            "{'loss': 0.006282569631478008, 'metrics': 0.01328981949054465}\n",
            "Epoch 179 of 200\n",
            "Validation metrics: \n",
            "{'loss': 0.0062825480970192926, 'metrics': 0.01329172140329468}\n",
            "Best model yet, saving\n",
            "Epoch 180 of 200\n",
            "Validation metrics: \n",
            "{'loss': 0.0062825839624417075, 'metrics': 0.01328970522296672}\n",
            "Epoch 181 of 200\n",
            "Validation metrics: \n",
            "{'loss': 0.0062825407794847785, 'metrics': 0.013293351255813423}\n",
            "Best model yet, saving\n",
            "Epoch 182 of 200\n",
            "Validation metrics: \n",
            "{'loss': 0.006282531295199783, 'metrics': 0.013290945060399115}\n",
            "Best model yet, saving\n",
            "Epoch 183 of 200\n",
            "Validation metrics: \n",
            "{'loss': 0.006282572064320652, 'metrics': 0.01328838187060794}\n",
            "Epoch 184 of 200\n",
            "Validation metrics: \n",
            "{'loss': 0.006282572425445732, 'metrics': 0.013288627055530645}\n",
            "Epoch 185 of 200\n",
            "Validation metrics: \n",
            "{'loss': 0.006282517705492827, 'metrics': 0.013291618501653477}\n",
            "Best model yet, saving\n",
            "Epoch 186 of 200\n",
            "Validation metrics: \n",
            "{'loss': 0.006282528064080647, 'metrics': 0.013291723608058326}\n",
            "Epoch 187 of 200\n",
            "Validation metrics: \n",
            "{'loss': 0.006282539506043706, 'metrics': 0.013289899926404563}\n",
            "Epoch 188 of 200\n",
            "Validation metrics: \n",
            "{'loss': 0.006282533043805434, 'metrics': 0.013292388914495098}\n",
            "Epoch 189 of 200\n",
            "Validation metrics: \n",
            "{'loss': 0.0062825740410053, 'metrics': 0.013288731173593171}\n",
            "Epoch 190 of 200\n",
            "Validation metrics: \n",
            "{'loss': 0.006282521620848957, 'metrics': 0.013291442956851453}\n",
            "Epoch 191 of 200\n",
            "Validation metrics: \n",
            "{'loss': 0.006282530820035204, 'metrics': 0.013292069033700593}\n",
            "Epoch 192 of 200\n",
            "Validation metrics: \n",
            "{'loss': 0.006282524737928595, 'metrics': 0.0132915162462361}\n",
            "Epoch 193 of 200\n",
            "Validation metrics: \n",
            "{'loss': 0.006282537111214229, 'metrics': 0.013290360988098748}\n",
            "Epoch 194 of 200\n",
            "Validation metrics: \n",
            "{'loss': 0.006282535286582246, 'metrics': 0.013292997619327234}\n",
            "Epoch 195 of 200\n",
            "Validation metrics: \n",
            "{'loss': 0.006282643300994318, 'metrics': 0.013286704881762972}\n",
            "Epoch 196 of 200\n",
            "Validation metrics: \n",
            "{'loss': 0.0062825211646909615, 'metrics': 0.013291828486384178}\n",
            "Early stopping triggered\n"
          ],
          "name": "stdout"
        }
      ]
    },
    {
      "cell_type": "code",
      "metadata": {
        "id": "qKkN5ZWefbdE",
        "colab": {
          "base_uri": "https://localhost:8080/",
          "height": 282
        },
        "outputId": "746b453a-0b58-4ca0-f0bc-582aae980c2e"
      },
      "source": [
        "fig, ax = plt.subplots(nrows=1, ncols=2, figsize=(14, 4))\n",
        "\n",
        "\n",
        "ax[0].plot(metrics['loss'])\n",
        "ax[0].set_title('MSE score (loss)')\n",
        "\n",
        "ax[1].plot(metrics['metrics'])\n",
        "ax[1].set_title('MAE score (metric)');"
      ],
      "execution_count": 23,
      "outputs": [
        {
          "output_type": "display_data",
          "data": {
            "image/png": "[encoded data removed]",
            "text/plain": [
              "<Figure size 1008x288 with 2 Axes>"
            ]
          },
          "metadata": {
            "tags": []
          }
        }
      ]
    },
    {
      "cell_type": "markdown",
      "metadata": {
        "id": "dHxlNoJYfbdE"
      },
      "source": [
        "## Проверка результатов\n",
        "\n",
        "Посмотрите, как ваш обученный автокодировщик преобразует входные примеры. В ячейке ниже приведен код для отображения произвольной пары пример-реконструкция."
      ]
    },
    {
      "cell_type": "code",
      "metadata": {
        "id": "mxjkCEAmfbdE",
        "colab": {
          "base_uri": "https://localhost:8080/"
        },
        "outputId": "b1d82089-113e-4ab9-d438-c2f816b12f31"
      },
      "source": [
        "index = int(np.random.randint(0, len(train_dataset), size=1))\n",
        "sample = train_dataset[index][0]\n",
        "sample_np = np.squeeze(sample.detach().cpu().numpy())\n",
        "sample_ae = model(sample.view(1,1,28,28).to(device))\n",
        "sample_ae_np = np.squeeze(sample_ae.detach().cpu().numpy())"
      ],
      "execution_count": 28,
      "outputs": [
        {
          "output_type": "stream",
          "text": [
            "/usr/local/lib/python3.7/dist-packages/torch/nn/functional.py:3458: UserWarning: Default upsampling behavior when mode=bilinear is changed to align_corners=False since 0.4.0. Please specify align_corners=True if the old behavior is desired. See the documentation of nn.Upsample for details.\n",
            "  \"See the documentation of nn.Upsample for details.\".format(mode)\n"
          ],
          "name": "stderr"
        }
      ]
    },
    {
      "cell_type": "code",
      "metadata": {
        "id": "OXuSQiIvfbdE",
        "colab": {
          "base_uri": "https://localhost:8080/",
          "height": 423
        },
        "outputId": "bdfff0c3-d2ea-45b5-844e-fef80a1398f0"
      },
      "source": [
        "fig, axes = plt.subplots(nrows=1, ncols=2, figsize=(4, 2), dpi=200)\n",
        "\n",
        "for i, ax in enumerate(axes):\n",
        "    img = sample_np if i==0 else sample_ae_np\n",
        "    ax.imshow(img, cmap='gray')\n",
        "    ax.set_xticks([])\n",
        "    ax.set_yticks([])\n",
        "    \n",
        "plt.tight_layout()\n",
        "fig.patch.set_facecolor('white')\n",
        "plt.imshow(img, cmap='gray')"
      ],
      "execution_count": 29,
      "outputs": [
        {
          "output_type": "execute_result",
          "data": {
            "text/plain": [
              "<matplotlib.image.AxesImage at 0x7f9794abac10>"
            ]
          },
          "metadata": {
            "tags": []
          },
          "execution_count": 29
        },
        {
          "output_type": "display_data",
          "data": {
            "image/png": "[encoded data removed]",
            "text/plain": [
              "<Figure size 800x400 with 2 Axes>"
            ]
          },
          "metadata": {
            "tags": []
          }
        }
      ]
    },
    {
      "cell_type": "markdown",
      "metadata": {
        "id": "oODjaPUYfbdF"
      },
      "source": [
        "## Идентификация аномалий.\n",
        "\n",
        "Идея идентификации аномалий состоит в том, чтобы разделить \"обычные\" экземпляры и \"необычные\" по значению функции потерь автокодировщика на этих примерах. Предполагается, что автокодировщик, обученный на обычных примерах не будет способен достаточно точно воспроизвести необычные примеры. То есть, значение функции потерь на необычных экземплярах будет большим. В этом ДЗ предлагается найти все экземпляры-выбросы, встречающиеся в тестовой выборке, руководствуюясь только значениями функции потерь автокодировщика. Для этого на всех объектах тестовой выборки следует вычислить функцию потерь обученного автокодировщика, и определить, какие экземпляры являются аномальными.\n",
        "\n",
        "В качестве решения всего задания следует получить список значений 0 или 1, соответствующих объектам тестовой выборки. Признак `1` означает, что этот объект является аномалией, `0` - означает, что объект обычный.\n",
        "\n",
        "Например, следующий список `[1,1,1,0,0,0,0,0,0,0,1,0]` означает, что в выборке из 12 объектов тестовой выборки аномалиями считаются первые три и предпоследний. Остальные считаются обычными.\n",
        "\n",
        "> ВНИМАНИЕ! Сопоставление при проверке будет производиться только по номерам объектов в тестовой выборке. Поэтому выборку при вычислении функции потерь не следует перемешивать. То есть, при создании загрузчика данных `torch.utils.data.DataLoader` аргумент перемешивания должен быть выключен: `shuffle=False`\n",
        "\n",
        "### Задание 8: примените обученную модель автокодировщика к данным тестовой выборки. Вычислите функцию потерь на каждом объекте тестовой выборки."
      ]
    },
    {
      "cell_type": "code",
      "metadata": {
        "id": "DQHaNM2hfbdF",
        "colab": {
          "base_uri": "https://localhost:8080/"
        },
        "outputId": "e46a5851-0d0e-4366-9d0d-68afd8f8505d"
      },
      "source": [
        "model.eval()\n",
        "test_loader = torch.utils.data.DataLoader(test_dataset, batch_size=1, shuffle=False)\n",
        "\n",
        "losses = []\n",
        "metric = nn.MSELoss()\n",
        "\n",
        "with torch.no_grad():\n",
        "    with tqdm(total=len(test_loader)) as pbar:\n",
        "        for data in test_loader:\n",
        "            ## здесь следует вычислить значения функции потерь для всех элементов тестовой выборки.\n",
        "            data = data.to(device)\n",
        "            data_pred = model(data)\n",
        "            curr_loss = metric(data_pred, data).item() / (RESIZE_SHAPE[0] * RESIZE_SHAPE[1])          \n",
        "            \n",
        "            losses.append(curr_loss)\n",
        "            pbar.update(1)"
      ],
      "execution_count": 30,
      "outputs": [
        {
          "output_type": "stream",
          "text": [
            "  0%|          | 0/10000 [00:00<?, ?it/s]/usr/local/lib/python3.7/dist-packages/torch/nn/functional.py:3458: UserWarning: Default upsampling behavior when mode=bilinear is changed to align_corners=False since 0.4.0. Please specify align_corners=True if the old behavior is desired. See the documentation of nn.Upsample for details.\n",
            "  \"See the documentation of nn.Upsample for details.\".format(mode)\n",
            "100%|██████████| 10000/10000 [00:12<00:00, 828.74it/s]\n"
          ],
          "name": "stderr"
        }
      ]
    },
    {
      "cell_type": "markdown",
      "metadata": {
        "id": "iRUhrck7fbdF"
      },
      "source": [
        "## Анализ значений функции потерь\n",
        "Проанализируйте распределение значений функции потерь и найдите объекты, на которых она слишком большая.\n",
        "\n",
        "### Задание 9:\n",
        "- Отобразите гистограмму значений функции потерь. Сделайте выводы (напишите ТЕКСТ) относительно значений для обычных объектов и аномалий.\n",
        "- Найдите объекты-аномалии, отобразите их.\n",
        "- Вычислите на них обученный вами автокодировщик. Отобразите рядом объекты-аномалии и их реконструкцию, вычисленную вашим автокодировщиком."
      ]
    },
    {
      "cell_type": "markdown",
      "metadata": {
        "id": "fAbH6wmLJmMn"
      },
      "source": [
        "Я предлагаю сделать следующее: давайте посмотрим на примерную плотность, расчитанную по KDE и оценим ее визуально. Видим, что у нас оооооочень длинный хвост в направлении маленького лосса, что довольно странно.\n",
        "\n",
        "Буквально методом проб и ошибок рассмотрим за границу \"доверительного интервала\" для лосса квантиль порядка 0.002 и изобразим объекты, лосс на которых меньше этого граничного значения."
      ]
    },
    {
      "cell_type": "code",
      "metadata": {
        "id": "CX_HWzp7fbdF",
        "colab": {
          "base_uri": "https://localhost:8080/",
          "height": 265
        },
        "outputId": "f165748d-a670-4100-ceba-38fd9c44b6ae"
      },
      "source": [
        "plt.figure(figsize=(10, 4))\n",
        "\n",
        "mean = np.mean(losses)\n",
        "left_border = np.quantile(losses, 0.0019)\n",
        "right_border = mean + 2 * np.std(losses)\n",
        "\n",
        "plt.axvline(x=mean, ymin=0, ymax=1, color='royalblue')\n",
        "plt.axvline(x=left_border, ymin=0, ymax=1, color='aqua')\n",
        "plt.axvline(x=right_border, ymin=0, ymax=1, color='aqua')\n",
        "sns.histplot(losses, kde=True);"
      ],
      "execution_count": 52,
      "outputs": [
        {
          "output_type": "display_data",
          "data": {
            "image/png": "[encoded data removed]",
            "text/plain": [
              "<Figure size 720x288 with 1 Axes>"
            ]
          },
          "metadata": {
            "tags": []
          }
        }
      ]
    },
    {
      "cell_type": "code",
      "metadata": {
        "id": "BnQKwJjPNvCy"
      },
      "source": [
        "def tensor2numpy(tensor):\n",
        "    img = tensor.numpy()\n",
        "    img = np.moveaxis(img, source=(0, 1, 2), destination=(2, 0, 1)).squeeze()\n",
        "\n",
        "    return img"
      ],
      "execution_count": 53,
      "outputs": []
    },
    {
      "cell_type": "code",
      "metadata": {
        "colab": {
          "base_uri": "https://localhost:8080/"
        },
        "id": "aoVMRu5PL-5O",
        "outputId": "99553ccd-94e2-4e42-b0d6-5275d26f3c7d"
      },
      "source": [
        "losses_np = np.array(losses)\n",
        "\n",
        "outliers = np.where(losses_np < (left_border))\n",
        "outliers"
      ],
      "execution_count": 54,
      "outputs": [
        {
          "output_type": "execute_result",
          "data": {
            "text/plain": [
              "(array([ 311, 1619, 1774, 2462, 3194, 3474, 3592, 3603, 3768, 4007, 4804,\n",
              "        5367, 5455, 6573, 8284, 8337, 8659, 9170, 9783]),)"
            ]
          },
          "metadata": {
            "tags": []
          },
          "execution_count": 54
        }
      ]
    },
    {
      "cell_type": "code",
      "metadata": {
        "colab": {
          "base_uri": "https://localhost:8080/",
          "height": 423
        },
        "id": "6YNra6twMd9v",
        "outputId": "303392fd-78ec-4782-87f6-3be39554ddff"
      },
      "source": [
        "fig, ax = plt.subplots(2, int(len(outliers[0])), figsize=(120, 5))\n",
        "\n",
        "for idx, outlier_idx in enumerate(outliers[0]):\n",
        "    data = test_dataset[outlier_idx]\n",
        "    img = tensor2numpy(data)\n",
        "\n",
        "    data_pred = model(data.unsqueeze(0).to(device))\n",
        "    img_pred = tensor2numpy(data_pred.cpu().detach())\n",
        "\n",
        "    ax[0, idx].imshow(img, cmap='gray')\n",
        "    ax[1, idx].imshow(img_pred, cmap='gray')\n",
        "    ax[0, idx].set_title(f'image index: {outlier_idx}')\n",
        "    ax[0, idx].grid(False)\n",
        "    ax[1, idx].grid(False)\n",
        "\n",
        "\n",
        "fig.tight_layout()\n",
        "fig.subplots_adjust(wspace=0.4)\n",
        "fig.patch.set_facecolor('white')"
      ],
      "execution_count": 55,
      "outputs": [
        {
          "output_type": "stream",
          "text": [
            "/usr/local/lib/python3.7/dist-packages/torch/nn/functional.py:3458: UserWarning: Default upsampling behavior when mode=bilinear is changed to align_corners=False since 0.4.0. Please specify align_corners=True if the old behavior is desired. See the documentation of nn.Upsample for details.\n",
            "  \"See the documentation of nn.Upsample for details.\".format(mode)\n"
          ],
          "name": "stderr"
        },
        {
          "output_type": "display_data",
          "data": {
            "image/png": "[encoded data removed]",
            "text/plain": [
              "<Figure size 8640x360 with 38 Axes>"
            ]
          },
          "metadata": {
            "tags": []
          }
        }
      ]
    },
    {
      "cell_type": "markdown",
      "metadata": {
        "id": "u7zqob9-Wdkx"
      },
      "source": [
        "Как видим, на аномалиях лосс почему-то сильно МЕНЬШЕ, чем на объектах из генеральной совокупности. Причем, что интересно, глянем на гистограмму изображений аномалий, реконструированных через автокодировщик:"
      ]
    },
    {
      "cell_type": "code",
      "metadata": {
        "colab": {
          "base_uri": "https://localhost:8080/",
          "height": 827
        },
        "id": "k0ph4KH_WdE9",
        "outputId": "9bb5a4fc-6a14-48e7-e34b-5cde04e57320"
      },
      "source": [
        "index = int(np.random.randint(0, len(outliers[0]), size=1))\n",
        "sample = test_dataset[outliers[0][index]]\n",
        "sample_np = np.squeeze(sample.detach().cpu().numpy())\n",
        "sample_ae = model(sample.view(1,1,28,28).to(device))\n",
        "sample_ae_np = np.squeeze(sample_ae.detach().cpu().numpy())\n",
        "\n",
        "\n",
        "fig, axes = plt.subplots(nrows=1, ncols=2, figsize=(6, 4), dpi=200)\n",
        "\n",
        "axes[0].imshow(sample_np)\n",
        "axes[0].set_title('outlier')\n",
        "axes[1].hist(np.concatenate(sample_ae_np), bins=20);\n",
        "axes[1].set_title('histogram of model(outlier)')"
      ],
      "execution_count": 73,
      "outputs": [
        {
          "output_type": "stream",
          "text": [
            "/usr/local/lib/python3.7/dist-packages/torch/nn/functional.py:3458: UserWarning: Default upsampling behavior when mode=bilinear is changed to align_corners=False since 0.4.0. Please specify align_corners=True if the old behavior is desired. See the documentation of nn.Upsample for details.\n",
            "  \"See the documentation of nn.Upsample for details.\".format(mode)\n"
          ],
          "name": "stderr"
        },
        {
          "output_type": "execute_result",
          "data": {
            "text/plain": [
              "Text(0.5, 1.0, 'histogram of model(outlier)')"
            ]
          },
          "metadata": {
            "tags": []
          },
          "execution_count": 73
        },
        {
          "output_type": "display_data",
          "data": {
            "image/png": "[encoded data removed]",
            "text/plain": [
              "<Figure size 1200x800 with 2 Axes>"
            ]
          },
          "metadata": {
            "tags": []
          }
        }
      ]
    },
    {
      "cell_type": "markdown",
      "metadata": {
        "id": "o3aftLp4Zik4"
      },
      "source": [
        "Как видим, большинство значений в районе 0.5.\n",
        "\n",
        "Пока что для меня это больше загадка, почему автокодировщик именно так реагирует на выбросы, так как все-таки ожидались большие значения лосса."
      ]
    },
    {
      "cell_type": "markdown",
      "metadata": {
        "id": "qhXE71ULfbdF"
      },
      "source": [
        "### Задание 10: создайте файл маркировки аномалий\n",
        "\n",
        "В этом задании требуется записать в файл признаки аномальности для всех объектов тестовой выборки в том порядке, в котором эти объекты идут в выборке. Это должен быть просто текстовый файл. В нем не должно быть никаких заголовков, никаких дополнительных символов. Только `0` или `1`\n",
        "\n",
        "<br />\n",
        "пример содержимого файла (для выборки длиной 244 объекта, из которых 6 оказались помечены как аномалии):\n",
        "\n",
        "`0000000000000010000000000000000000000000000000000000000000000000000000100000000000000000000000000000000000000000100000000000000000000000000000000000000000000000000000000000000001000000000000000000000000000000000000000000000000000000001100000000`\n",
        "\n",
        "<br /><br />\n",
        "Финальным решением этого ДЗ является этот файл. Его нужно сдать вместе с ноутбуком с вашим кодом."
      ]
    },
    {
      "cell_type": "code",
      "metadata": {
        "id": "A3cKRnWEfbdF",
        "colab": {
          "base_uri": "https://localhost:8080/"
        },
        "outputId": "733dce9f-8db5-4d6a-d0e1-2ffe342b8736"
      },
      "source": [
        "final_outliers = np.array([311, 1619, 1774, 3194, 3474, 3592, 3603, 4007, 5367, 5455, 6573, 8284, 8337, 8659, 9170, 9783])\n",
        "final_outliers.shape"
      ],
      "execution_count": 94,
      "outputs": [
        {
          "output_type": "execute_result",
          "data": {
            "text/plain": [
              "(16,)"
            ]
          },
          "metadata": {
            "tags": []
          },
          "execution_count": 94
        }
      ]
    },
    {
      "cell_type": "code",
      "metadata": {
        "id": "b8pva5qTPoBc"
      },
      "source": [
        "answer = np.array([1 if (i in final_outliers) else 0 for i in range(len(test_loader.dataset))])\n",
        "\n",
        "\n",
        "assert (answer[final_outliers] == np.ones(shape=final_outliers.shape)).all()"
      ],
      "execution_count": 95,
      "outputs": []
    },
    {
      "cell_type": "code",
      "metadata": {
        "colab": {
          "base_uri": "https://localhost:8080/",
          "height": 86
        },
        "id": "vDgnaGZkYcBd",
        "outputId": "287d69ea-8c0f-4d2e-b028-88e96728ce3f"
      },
      "source": [
        "answer_str = ''.join([str(i) for i in answer])\n",
        "answer_str"
      ],
      "execution_count": 96,
      "outputs": [
        {
          "output_type": "execute_result",
          "data": {
            "application/vnd.google.colaboratory.intrinsic+json": {
              "type": "string"
            },
            "text/plain": [
              "'0000000000000000000000000000000000000000000000000000000000000000000000000000000000000000000000000000000000000000000000000000000000000000000000000000000000000000000000000000000000000000000000000000000000000000000000000000000000000000000000000000000000000000000000000000000000000000000000000000000000000000000000010000000000000000000000000000000000000000000000000000000000000000000000000000000000000000000000000000000000000000000000000000000000000000000000000000000000000000000000000000000000000000000000000000000000000000000000000000000000000000000000000000000000000000000000000000000000000000000000000000000000000000000000000000000000000000000000000000000000000000000000000000000000000000000000000000000000000000000000000000000000000000000000000000000000000000000000000000000000000000000000000000000000000000000000000000000000000000000000000000000000000000000000000000000000000000000000000000000000000000000000000000000000000000000000000000000000000000000000000000000000000000000000000000000000000000000000000000000000000000000000000000000000000000000000000000000000000000000000000000000000000000000000000000000000000000000000000000000000000000000000000000000000000000000000000000000000000000000000000000000000000000000000000000000000000000000000000000000000000000000000000000000000000000000000000000000000000000000000000000000000000000000000000000000000000000000000000000000000000000000000000000000000000000000000000000000000000000000000000000000000000000000000000000000000000000000000000000000000000000000000000000000000000000000000000000000000000000000000000000000000000000000000000000000000000000000000000000000000010000000000000000000000000000000000000000000000000000000000000000000000000000000000000000000000000000000000000000000000000000000000000000000000000000000000100000000000000000000000000000000000000000000000000000000000000000000000000000000000000000000000000000000000000000000000000000000000000000000000000000000000000000000000000000000000000000000000000000000000000000000000000000000000000000000000000000000000000000000000000000000000000000000000000000000000000000000000000000000000000000000000000000000000000000000000000000000000000000000000000000000000000000000000000000000000000000000000000000000000000000000000000000000000000000000000000000000000000000000000000000000000000000000000000000000000000000000000000000000000000000000000000000000000000000000000000000000000000000000000000000000000000000000000000000000000000000000000000000000000000000000000000000000000000000000000000000000000000000000000000000000000000000000000000000000000000000000000000000000000000000000000000000000000000000000000000000000000000000000000000000000000000000000000000000000000000000000000000000000000000000000000000000000000000000000000000000000000000000000000000000000000000000000000000000000000000000000000000000000000000000000000000000000000000000000000000000000000000000000000000000000000000000000000000000000000000000000000000000000000000000000000000000000000000000000000000000000000000000000000000000000000000000000000000000000000000000000000000000000000000000000000000000000000000000000000000000000000000000000000000000000000000000000000000000000000000000000000000000000000000000000000000010000000000000000000000000000000000000000000000000000000000000000000000000000000000000000000000000000000000000000000000000000000000000000000000000000000000000000000000000000000000000000000000000000000000000000000000000000000000000000000000000000000000000000000000000000000000000001000000000000000000000000000000000000000000000000000000000000000000000000000000000000000000000000000000000000000000000100000000001000000000000000000000000000000000000000000000000000000000000000000000000000000000000000000000000000000000000000000000000000000000000000000000000000000000000000000000000000000000000000000000000000000000000000000000000000000000000000000000000000000000000000000000000000000000000000000000000000000000000000000000000000000000000000000000000000000000000000000000000000000000000000000000000000000000000000000010000000000000000000000000000000000000000000000000000000000000000000000000000000000000000000000000000000000000000000000000000000000000000000000000000000000000000000000000000000000000000000000000000000000000000000000000000000000000000000000000000000000000000000000000000000000000000000000000000000000000000000000000000000000000000000000000000000000000000000000000000000000000000000000000000000000000000000000000000000000000000000000000000000000000000000000000000000000000000000000000000000000000000000000000000000000000000000000000000000000000000000000000000000000000000000000000000000000000000000000000000000000000000000000000000000000000000000000000000000000000000000000000000000000000000000000000000000000000000000000000000000000000000000000000000000000000000000000000000000000000000000000000000000000000000000000000000000000000000000000000000000000000000000000000000000000000000000000000000000000000000000000000000000000000000000000000000000000000000000000000000000000000000000000000000000000000000000000000000000000000000000000000000000000000000000000000000000000000000000000000000000000000000000000000000000000000000000000000000000000000000000000000000000000000000000000000000000000000000000000000000000000000000000000000000000000000000000000000000000000000000000000000000000000000000000000000000000000000000000000000000000000000000000000000000000000000001000000000000000000000000000000000000000000000000000000000000000000000000000000000000000100000000000000000000000000000000000000000000000000000000000000000000000000000000000000000000000000000000000000000000000000000000000000000000000000000000000000000000000000000000000000000000000000000000000000000000000000000000000000000000000000000000000000000000000000000000000000000000000000000000000000000000000000000000000000000000000000000000000000000000000000000000000000000000000000000000000000000000000000000000000000000000000000000000000000000000000000000000000000000000000000000000000000000000000000000000000000000000000000000000000000000000000000000000000000000000000000000000000000000000000000000000000000000000000000000000000000000000000000000000000000000000000000000000000000000000000000000000000000000000000000000000000000000000000000000000000000000000000000000000000000000000000000000000000000000000000000000000000000000000000000000000000000000000000000000000000000000000000000000000000000000000000000000000000000000000000000000000000000000000000000000000000000000000000000000000000000000000000000000000000000000000000000000000000000000000000000000000000000000000000000000000000000000000000000000000000001000000000000000000000000000000000000000000000000000000000000000000000000000000000000000000000000000000000000000000000000000000000000000000000000000000000000000000000000000000000000000000000000000000000000000000000000000000000000000000000000000000000000000000000000000000000000000000000000000000000000000000000000000000000000000000000000000000000000000000000000000000000000000000000000000000000000000000000000000000000000000000000000000000000000000000000000000000000000000000000000000000000000000000000000000000000000000000000000000000000000000000000000000000000000000000000000000000000000000000000000000000000000000000000000000000000000000000000000000000000000000000000000000000000000000000000000000000000000000000000000000000000000000000000000000000000000000000000000000000000000000000000000000000000000000000000000000000000000000000000000000000000000000000000000000000000000000000000000000000000000000000000000000000000000000000000000000000000000000000000000000000000000000000000000000000000000000000000000000000000000000000000000000000000000000000000000000000000000000000000000000000000000000000000000000000000000000000000000000000000000000000000000000000000000000000000000000000000000000000000000000000000000000000000000000000000000000000000000000000000000000000000000000000000000000000000000000000000000000000000000000000000000000000000000000000000000000000000000000000000000000000000000000000000000000000000000000000000000000000000000000000000000000000000000000000000000000000000000000000000000000000000000000000000000000000000000000000000000000000000000000000000000000000000000000000000000000000000000000000000000000000000000000000000000000000000000000000000000000000000000000000000000000000000000000000100000000000000000000000000000000000000000000000000001000000000000000000000000000000000000000000000000000000000000000000000000000000000000000000000000000000000000000000000000000000000000000000000000000000000000000000000000000000000000000000000000000000000000000000000000000000000000000000000000000000000000000000000000000000000000000000000000000000000000000000000000000000000100000000000000000000000000000000000000000000000000000000000000000000000000000000000000000000000000000000000000000000000000000000000000000000000000000000000000000000000000000000000000000000000000000000000000000000000000000000000000000000000000000000000000000000000000000000000000000000000000000000000000000000000000000000000000000000000000000000000000000000000000000000000000000000000000000000000000000000000000000000000000000000000000000000000000000000000000000000000000000000000000000000000000000000000000000010000000000000000000000000000000000000000000000000000000000000000000000000000000000000000000000000000000000000000000000000000000000000000000000000000000000000000000000000000000000000000000000000000000000000000000000000000000000000000000000000000000000000000000000000000000000000000000000000000000000000000000000000000000000000000000000000000000000000000000000000000000000000000000000000000000000000000000000000000000000000000000000000000000000000000000000000000000000000000000000000000000000000000000000000000000000000000000000000000000000000000000000000000000000000000000000000000000000000000000000000000000000001000000000000000000000000000000000000000000000000000000000000000000000000000000000000000000000000000000000000000000000000000000000000000000000000000000000000000000000000000000000000000000000000000000000000000000000000'"
            ]
          },
          "metadata": {
            "tags": []
          },
          "execution_count": 96
        }
      ]
    },
    {
      "cell_type": "code",
      "metadata": {
        "id": "ebD0r8eyb88M"
      },
      "source": [
        "f = open(\"answer.txt\", \"w\")\n",
        "f.write(answer_str)\n",
        "f.close()"
      ],
      "execution_count": 97,
      "outputs": []
    }
  ]
}