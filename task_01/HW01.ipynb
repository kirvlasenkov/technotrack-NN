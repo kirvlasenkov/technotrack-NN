{
 "cells": [
  {
   "cell_type": "markdown",
   "metadata": {},
   "source": [
    "# ДЗ №1 - обучение модели линейной регресии методом градиентного спуска"
   ]
  },
  {
   "cell_type": "markdown",
   "metadata": {},
   "source": [
    "Реализовать обучение модели линейной регрессии методом градиентного спуска.<br />\n",
    "\n",
    "В качестве подводящего упражнения в этом задании предлагается реализовать функции потерь и саму модель линейной регрессии в манере, схожей с построением модулей фреймворка pytorch (см. пояснения в шаблонах кода)\n",
    "\n",
    "В решении ожидается наличие следующих ключевых составляющих:<br />\n",
    "\n",
    "#### Текстовое описание в решении:\n",
    "- формулировка задачи, формулировка признакового описания объектов, формулировка функции ошибки, формулировка меры качества модели; + \n",
    "- исследование исходных данных на предмет скоррелированности признаков; фильтрация признаков; порождение признаков (при необходимости); + \n",
    "- оценка параметров модели линейной регрессии (обучение модели) методом градиентного спуска; +\n",
    "- оценка качества модели на валидационной выборке.+\n",
    "\n",
    "#### Код решения:\n",
    "(используйте предлагаемые шаблоны)\n",
    "- формулировка модели линейной регрессии; + \n",
    "- формулировка функции ошибки; + \n",
    "- формулировка метрики (метрик); +\n",
    "- формулировка цикла оптимизации параметров.+ \n",
    "\n",
    "\n",
    "#### Визуализация в решении:\n",
    "- распределение признаков; +\n",
    "- распределение целевой переменной; + \n",
    "- эволюция функции ошибки и выбранных метрик качества по ходу обучения. +\n",
    "\n",
    "#### Выводы (в форме текста!)\n",
    "- вывод о том, насколько модель подходит для описания данных +\n",
    "- вывод о достаточности или избыточности данных для оценки параметров модели +\n",
    "- вывод о соотношении выразительности модели и ее обобщающей способности (наблюдаются ли явления переобучения или недообучения).+\n",
    "\n",
    "Примечания:<br />\n",
    "Допустимо порождение признаков (полиномиальных, экспоненциальных, логарифмических, etc.)<br />\n",
    "Реализация линейной регрессии может быть написана только с использованием библиотеки Numpy. Решения с использованием библиотек автоматического вычисления градиентов не засчитываются.<br />\n",
    "Из готовых реализаций (напр., из пакета scikit-learn) в этом задании допускается использовать только порождение полиномиальных признаков `PolynomialFeatures`."
   ]
  },
  {
   "cell_type": "markdown",
   "metadata": {},
   "source": [
    "## Примечание на предмет реализации градиента функции потерь\n",
    "\n",
    "Нелишним будет вспомнить способ вычисления градиента сложной функции. Здесь функция ошибки (обозначено как $\\mathscr{L}$) представлена как сложная функция $\\mathscr{L}\\left( G\\left( \\theta \\right) \\right)$. Для простоты приведена сразу матричная запись.\n",
    "\n",
    "$$\n",
    "\\nabla_{\\theta}{\\mathscr{L}} = \\nabla_{\\theta}{G}\\cdot\\left(\\nabla_{G}{\\mathscr{L}}\\right)\n",
    "$$\n",
    "\n",
    "В качестве шпаргалки можно подсмотреть правила матричного дифференцирования <a href=\"https://www.math.uwaterloo.ca/~hwolkowi/matrixcookbook.pdf\">здесь</a>\n",
    "\n",
    "Например, в случае функции потерь MSE это может выглядеть следующим образом:\n",
    "\n",
    "$$\n",
    "\\nabla_{\\theta}{\\mathscr{L}} = X^T\\cdot2\\left(X\\theta - Y\\right)\n",
    "$$\n",
    "\n",
    "\n",
    "При этом логически имеет смысл реализовать компоненту градиента, относящуюся собственно к функции потерь $\\nabla_{G}{\\mathscr{L}}$ - в коде класса функции потерь, а компоненту, относящуюся к модели $\\nabla_{\\theta}{G}$ - в коде модели.\n",
    "\n",
    "Именно поэтому классы `loss` и `linear_regression` в предложенном шаблоне реализованы наследующими `Differentiable` - для общности восприятия этих модулей как дифференцируемых по своим аргументам."
   ]
  },
  {
   "cell_type": "markdown",
   "metadata": {},
   "source": [
    "<center><h1>Решение задачи</h1><center>"
   ]
  },
  {
   "cell_type": "markdown",
   "metadata": {},
   "source": [
    "## Описание задачи\n",
    "\n",
    "В данной задаче требуется реализовать алгоритм линейной регрессии для обучения с учителем, с оптимизацией функции ошибки методом градиентного спуска. По условию предоставлена некоторая выборка объектов, происхождение которых мне неизвестно. Соответственно под $X$ будем понимать матрицу с признаковым описанием объектов, а под $y$ - вектор-столбец, состоящих из того, что нам надо предсказать на этих объектах. Так как задача регрессии, то соответственно $y$ - это вектор действительных чисел.\n",
    "\n",
    "Алгоритм линейной регресси в матричном виде представляется тогда как:\n",
    "$$\n",
    "a(X) = Xw,\n",
    "$$\n",
    "где $w$ - вектор-столбец весов, a $a(X)$ - ответ алгоритма (вектор-столбец) на матрице объектов $X$.\n",
    "\n",
    "Если перемножить, то в развернутом виде получается вот такая набор выражений:\n",
    "$$\n",
    "\\begin{equation}\n",
    "    \\begin{cases}\n",
    "    \\sum\\limits_{i=1}^n x_i^{1} w_i = y_{pred}^{1}\n",
    "    \\\\\n",
    "    \\sum\\limits_{i=1}^n x_i^{2} w_i = y_{pred}^{2}\n",
    "    \\\\\n",
    "    ...\n",
    "    \\\\\n",
    "    \\sum\\limits_{i=1}^n x_i^{m} w_i = y_{pred}^{m}\n",
    "    \\end{cases}\n",
    "\\end{equation}\n",
    "$$\n",
    "\n",
    "Теперь, когда мы знаем, как нам предсказывать ответ на объектах, нам надо понять, а хорошо ли мы вообще это делаем. Для этого вводится функция ошибки $L^i(y^i, y^i_{pred})$, которая принимает истинный ответ и нами предсказанный на i-ом объекте, и возвращает некоторое число. В задаче регрессии, как правило, чем это число меньше, тем лучше. Так как обычно объектов больше, чем один и лучший по близости ответ мы хотим получать сразу на всех объектах, то введем функционал ошибки $L(y, y_{pred}) = \\sum\\limits^m_{i=1} L^i(y^i, y^i_{pred})$\n",
    "Предполагая, что ответы на алгоритме имеют распределение $N(0, 1)$, а также, что объекты выборки независимо одинаково распределенные тогда метод максимального правдоподобия говорит, что за функционал ошибки стоить взять $MSE$ (mean squared error), который выглядит, как\n",
    "$$\n",
    "\\frac{1}{m} \\sum\\limits_{i=1}^{m} (y^i - y^i_{pred})^2\n",
    "$$\n",
    "Таким образом,  задача свелась к минимизации выпуклой функции. Очевидно, что искать нам надо минимум по вектору весов $w$, а сам процесс оптимизации мы будем делать методом градиентного спуска, как было заявлено выше.\n",
    "\n",
    "После того, как мы разделим данные на `train/test`, на train-данных мы будем минимизировать $MSE$, а затем проверять итоговое качество на тестовых данных, оценивая также $MSE$, но уже как `метрику`."
   ]
  },
  {
   "cell_type": "markdown",
   "metadata": {},
   "source": [
    "## Описание метода градиентного спуска\n",
    "\n",
    "Так как направление вектора градиента совпадает с направлением наискорейшего возрастания функции, то тогда можно итеративно уменьшать вектор весов следующим образом:\n",
    "$$\n",
    "w^{n+1} = w^{n} - \\alpha\\nabla_{w}{L} \n",
    ",$$\n",
    "где $\\alpha$ - learning rate, в простом случае какая-то константа, которая отражает скорость движения в направлении градиента.\n",
    "\n",
    "В нашем случае с $MSE$ градиент можно найти следующим образом: $X^T\\cdot2\\left(Xw - y\\right)$"
   ]
  },
  {
   "cell_type": "code",
   "execution_count": 1,
   "metadata": {},
   "outputs": [],
   "source": [
    "import numpy as np\n",
    "import pandas as pd\n",
    "from abc import ABC, abstractmethod\n",
    "from tqdm import tqdm\n",
    "\n",
    "%matplotlib inline\n",
    "import seaborn as sns\n",
    "import matplotlib.pylab as plt\n",
    "plt.style.use('ggplot')\n",
    "\n",
    "from warnings import filterwarnings\n",
    "filterwarnings('ignore')"
   ]
  },
  {
   "cell_type": "markdown",
   "metadata": {},
   "source": [
    "## Предварительный анализ данных"
   ]
  },
  {
   "cell_type": "code",
   "execution_count": 2,
   "metadata": {},
   "outputs": [],
   "source": [
    "X = np.load('./X_train.npy')\n",
    "y = np.load('./y_train.npy')"
   ]
  },
  {
   "cell_type": "markdown",
   "metadata": {},
   "source": [
    "Для начала, создадим таблицу из фичей и целевых значений и немножко посмотрим, какого рода данные достались"
   ]
  },
  {
   "cell_type": "code",
   "execution_count": 3,
   "metadata": {},
   "outputs": [
    {
     "data": {
      "text/html": [
       "<div>\n",
       "<style scoped>\n",
       "    .dataframe tbody tr th:only-of-type {\n",
       "        vertical-align: middle;\n",
       "    }\n",
       "\n",
       "    .dataframe tbody tr th {\n",
       "        vertical-align: top;\n",
       "    }\n",
       "\n",
       "    .dataframe thead th {\n",
       "        text-align: right;\n",
       "    }\n",
       "</style>\n",
       "<table border=\"1\" class=\"dataframe\">\n",
       "  <thead>\n",
       "    <tr style=\"text-align: right;\">\n",
       "      <th></th>\n",
       "      <th>feature_1</th>\n",
       "      <th>feature_2</th>\n",
       "      <th>feature_3</th>\n",
       "      <th>feature_4</th>\n",
       "      <th>target</th>\n",
       "    </tr>\n",
       "  </thead>\n",
       "  <tbody>\n",
       "    <tr>\n",
       "      <th>0</th>\n",
       "      <td>-1.379859</td>\n",
       "      <td>-1.639242</td>\n",
       "      <td>1.904012</td>\n",
       "      <td>-2.627268</td>\n",
       "      <td>2.468626</td>\n",
       "    </tr>\n",
       "    <tr>\n",
       "      <th>1</th>\n",
       "      <td>-5.411598</td>\n",
       "      <td>-5.495438</td>\n",
       "      <td>29.285391</td>\n",
       "      <td>-158.480757</td>\n",
       "      <td>9.998146</td>\n",
       "    </tr>\n",
       "    <tr>\n",
       "      <th>2</th>\n",
       "      <td>-4.299786</td>\n",
       "      <td>-4.594803</td>\n",
       "      <td>18.488158</td>\n",
       "      <td>-79.495119</td>\n",
       "      <td>9.279000</td>\n",
       "    </tr>\n",
       "    <tr>\n",
       "      <th>3</th>\n",
       "      <td>-6.005137</td>\n",
       "      <td>-5.921348</td>\n",
       "      <td>36.061665</td>\n",
       "      <td>-216.555224</td>\n",
       "      <td>8.634806</td>\n",
       "    </tr>\n",
       "    <tr>\n",
       "      <th>4</th>\n",
       "      <td>-6.420339</td>\n",
       "      <td>-6.364172</td>\n",
       "      <td>41.220748</td>\n",
       "      <td>-264.651158</td>\n",
       "      <td>9.567111</td>\n",
       "    </tr>\n",
       "  </tbody>\n",
       "</table>\n",
       "</div>"
      ],
      "text/plain": [
       "   feature_1  feature_2  feature_3   feature_4    target\n",
       "0  -1.379859  -1.639242   1.904012   -2.627268  2.468626\n",
       "1  -5.411598  -5.495438  29.285391 -158.480757  9.998146\n",
       "2  -4.299786  -4.594803  18.488158  -79.495119  9.279000\n",
       "3  -6.005137  -5.921348  36.061665 -216.555224  8.634806\n",
       "4  -6.420339  -6.364172  41.220748 -264.651158  9.567111"
      ]
     },
     "execution_count": 3,
     "metadata": {},
     "output_type": "execute_result"
    }
   ],
   "source": [
    "from itertools import chain\n",
    "\n",
    "columns = chain((f\"feature_{i}\" for i in range(1, X.shape[1] + 1)), ('target',))\n",
    "\n",
    "data = pd.DataFrame(\n",
    "    np.concatenate((X, y), axis=1),\n",
    "    columns=columns\n",
    ")\n",
    "data.head()"
   ]
  },
  {
   "cell_type": "code",
   "execution_count": 4,
   "metadata": {},
   "outputs": [
    {
     "data": {
      "text/plain": [
       "(10000, 5)"
      ]
     },
     "execution_count": 4,
     "metadata": {},
     "output_type": "execute_result"
    }
   ],
   "source": [
    "data.shape"
   ]
  },
  {
   "cell_type": "code",
   "execution_count": 5,
   "metadata": {},
   "outputs": [
    {
     "data": {
      "text/html": [
       "<div>\n",
       "<style scoped>\n",
       "    .dataframe tbody tr th:only-of-type {\n",
       "        vertical-align: middle;\n",
       "    }\n",
       "\n",
       "    .dataframe tbody tr th {\n",
       "        vertical-align: top;\n",
       "    }\n",
       "\n",
       "    .dataframe thead th {\n",
       "        text-align: right;\n",
       "    }\n",
       "</style>\n",
       "<table border=\"1\" class=\"dataframe\">\n",
       "  <thead>\n",
       "    <tr style=\"text-align: right;\">\n",
       "      <th></th>\n",
       "      <th>feature_1</th>\n",
       "      <th>feature_2</th>\n",
       "      <th>feature_3</th>\n",
       "      <th>feature_4</th>\n",
       "      <th>target</th>\n",
       "    </tr>\n",
       "  </thead>\n",
       "  <tbody>\n",
       "    <tr>\n",
       "      <th>count</th>\n",
       "      <td>10000.000000</td>\n",
       "      <td>10000.000000</td>\n",
       "      <td>10000.000000</td>\n",
       "      <td>10000.000000</td>\n",
       "      <td>10000.000000</td>\n",
       "    </tr>\n",
       "    <tr>\n",
       "      <th>mean</th>\n",
       "      <td>0.023107</td>\n",
       "      <td>0.022998</td>\n",
       "      <td>28.835876</td>\n",
       "      <td>1.692730</td>\n",
       "      <td>14.527903</td>\n",
       "    </tr>\n",
       "    <tr>\n",
       "      <th>std</th>\n",
       "      <td>5.370123</td>\n",
       "      <td>5.375967</td>\n",
       "      <td>20.666320</td>\n",
       "      <td>266.036383</td>\n",
       "      <td>18.980914</td>\n",
       "    </tr>\n",
       "    <tr>\n",
       "      <th>min</th>\n",
       "      <td>-12.479018</td>\n",
       "      <td>-12.515073</td>\n",
       "      <td>0.000007</td>\n",
       "      <td>-1943.306171</td>\n",
       "      <td>-57.872737</td>\n",
       "    </tr>\n",
       "    <tr>\n",
       "      <th>25%</th>\n",
       "      <td>-4.966595</td>\n",
       "      <td>-4.963999</td>\n",
       "      <td>13.170098</td>\n",
       "      <td>-122.511325</td>\n",
       "      <td>5.350223</td>\n",
       "    </tr>\n",
       "    <tr>\n",
       "      <th>50%</th>\n",
       "      <td>-0.029218</td>\n",
       "      <td>-0.036860</td>\n",
       "      <td>24.895115</td>\n",
       "      <td>-0.000025</td>\n",
       "      <td>8.754593</td>\n",
       "    </tr>\n",
       "    <tr>\n",
       "      <th>75%</th>\n",
       "      <td>5.033995</td>\n",
       "      <td>5.024538</td>\n",
       "      <td>40.093336</td>\n",
       "      <td>127.567014</td>\n",
       "      <td>15.689532</td>\n",
       "    </tr>\n",
       "    <tr>\n",
       "      <th>max</th>\n",
       "      <td>11.898036</td>\n",
       "      <td>11.955627</td>\n",
       "      <td>155.725889</td>\n",
       "      <td>1684.324907</td>\n",
       "      <td>193.520096</td>\n",
       "    </tr>\n",
       "  </tbody>\n",
       "</table>\n",
       "</div>"
      ],
      "text/plain": [
       "          feature_1     feature_2     feature_3     feature_4        target\n",
       "count  10000.000000  10000.000000  10000.000000  10000.000000  10000.000000\n",
       "mean       0.023107      0.022998     28.835876      1.692730     14.527903\n",
       "std        5.370123      5.375967     20.666320    266.036383     18.980914\n",
       "min      -12.479018    -12.515073      0.000007  -1943.306171    -57.872737\n",
       "25%       -4.966595     -4.963999     13.170098   -122.511325      5.350223\n",
       "50%       -0.029218     -0.036860     24.895115     -0.000025      8.754593\n",
       "75%        5.033995      5.024538     40.093336    127.567014     15.689532\n",
       "max       11.898036     11.955627    155.725889   1684.324907    193.520096"
      ]
     },
     "execution_count": 5,
     "metadata": {},
     "output_type": "execute_result"
    }
   ],
   "source": [
    "data.describe()"
   ]
  },
  {
   "cell_type": "markdown",
   "metadata": {},
   "source": [
    "Можно заметить, что `feature_1` и `feature_2` довольно сильно похожи по своим описательным статистикам. В дальнейшем, посмотрим на это еще с точки зрения корреляции."
   ]
  },
  {
   "cell_type": "code",
   "execution_count": 6,
   "metadata": {},
   "outputs": [
    {
     "data": {
      "text/plain": [
       "feature_1    float64\n",
       "feature_2    float64\n",
       "feature_3    float64\n",
       "feature_4    float64\n",
       "target       float64\n",
       "dtype: object"
      ]
     },
     "execution_count": 6,
     "metadata": {},
     "output_type": "execute_result"
    }
   ],
   "source": [
    "data.dtypes"
   ]
  },
  {
   "cell_type": "code",
   "execution_count": 7,
   "metadata": {},
   "outputs": [
    {
     "data": {
      "text/plain": [
       "feature_1    0\n",
       "feature_2    0\n",
       "feature_3    0\n",
       "feature_4    0\n",
       "target       0\n",
       "dtype: int64"
      ]
     },
     "execution_count": 7,
     "metadata": {},
     "output_type": "execute_result"
    }
   ],
   "source": [
    " data.isnull().sum()"
   ]
  },
  {
   "cell_type": "markdown",
   "metadata": {},
   "source": [
    "Как видно, все признаки числовые, в данных пропусков нет.\n",
    "\n",
    "Построим теперь матрицу корреляций Пирсона"
   ]
  },
  {
   "cell_type": "code",
   "execution_count": 8,
   "metadata": {},
   "outputs": [],
   "source": [
    "def calc_corr(feature_1, feature_2):\n",
    "    # подсчет среднего\n",
    "    mean_1 = np.mean(feature_1)\n",
    "    mean_2 = np.mean(feature_2)\n",
    "        \n",
    "    # подсчет дисперсии \n",
    "    var_1 = np.mean((feature_1 - mean_1)**2)\n",
    "    var_2 = np.mean((feature_2 - mean_2)**2)\n",
    "    \n",
    "    # подсчет ковариации\n",
    "    cov_1_2 = np.mean((feature_1 - mean_1) * (feature_2 - mean_2))\n",
    "    \n",
    "    return cov_1_2 / np.sqrt(var_1 * var_2)\n",
    "    \n",
    "    \n",
    "def get_correlation_table(dataset):\n",
    "    corr_matrix = pd.DataFrame(index=dataset.columns, columns=dataset.columns, dtype=np.float64)\n",
    "    np.fill_diagonal(corr_matrix.values, 1.0)\n",
    "    \n",
    "    for column_1 in dataset.columns:\n",
    "        for column_2 in dataset.columns:\n",
    "            corr_matrix.loc[column_2, column_1] = calc_corr(dataset[column_1], dataset[column_2])\n",
    "            corr_matrix.loc[column_1, column_2] = calc_corr(dataset[column_1], dataset[column_2])\n",
    "    \n",
    "    return corr_matrix"
   ]
  },
  {
   "cell_type": "code",
   "execution_count": 9,
   "metadata": {},
   "outputs": [
    {
     "data": {
      "image/png": "[encoded data removed]",
      "text/plain": [
       "<Figure size 432x288 with 2 Axes>"
      ]
     },
     "metadata": {},
     "output_type": "display_data"
    }
   ],
   "source": [
    "corr_table =  get_correlation_table(data)\n",
    "sns.heatmap(\n",
    "    corr_table,\n",
    "    annot=True,\n",
    ");"
   ]
  },
  {
   "cell_type": "markdown",
   "metadata": {},
   "source": [
    "Как видно из матрицы корреляций, `feature_1` и `feature_2` буквально идентичные. Скорее всего, данные были просто ошибочно продублированы. Следует удалить одну из этих фичей, так как в противном случае мультиколлинеарность - прямая дорога к переобучению."
   ]
  },
  {
   "cell_type": "code",
   "execution_count": 10,
   "metadata": {},
   "outputs": [
    {
     "data": {
      "text/html": [
       "<div>\n",
       "<style scoped>\n",
       "    .dataframe tbody tr th:only-of-type {\n",
       "        vertical-align: middle;\n",
       "    }\n",
       "\n",
       "    .dataframe tbody tr th {\n",
       "        vertical-align: top;\n",
       "    }\n",
       "\n",
       "    .dataframe thead th {\n",
       "        text-align: right;\n",
       "    }\n",
       "</style>\n",
       "<table border=\"1\" class=\"dataframe\">\n",
       "  <thead>\n",
       "    <tr style=\"text-align: right;\">\n",
       "      <th></th>\n",
       "      <th>feature_2</th>\n",
       "      <th>feature_3</th>\n",
       "      <th>feature_4</th>\n",
       "      <th>target</th>\n",
       "    </tr>\n",
       "  </thead>\n",
       "  <tbody>\n",
       "    <tr>\n",
       "      <th>0</th>\n",
       "      <td>-1.639242</td>\n",
       "      <td>1.904012</td>\n",
       "      <td>-2.627268</td>\n",
       "      <td>2.468626</td>\n",
       "    </tr>\n",
       "    <tr>\n",
       "      <th>1</th>\n",
       "      <td>-5.495438</td>\n",
       "      <td>29.285391</td>\n",
       "      <td>-158.480757</td>\n",
       "      <td>9.998146</td>\n",
       "    </tr>\n",
       "    <tr>\n",
       "      <th>2</th>\n",
       "      <td>-4.594803</td>\n",
       "      <td>18.488158</td>\n",
       "      <td>-79.495119</td>\n",
       "      <td>9.279000</td>\n",
       "    </tr>\n",
       "    <tr>\n",
       "      <th>3</th>\n",
       "      <td>-5.921348</td>\n",
       "      <td>36.061665</td>\n",
       "      <td>-216.555224</td>\n",
       "      <td>8.634806</td>\n",
       "    </tr>\n",
       "    <tr>\n",
       "      <th>4</th>\n",
       "      <td>-6.364172</td>\n",
       "      <td>41.220748</td>\n",
       "      <td>-264.651158</td>\n",
       "      <td>9.567111</td>\n",
       "    </tr>\n",
       "  </tbody>\n",
       "</table>\n",
       "</div>"
      ],
      "text/plain": [
       "   feature_2  feature_3   feature_4    target\n",
       "0  -1.639242   1.904012   -2.627268  2.468626\n",
       "1  -5.495438  29.285391 -158.480757  9.998146\n",
       "2  -4.594803  18.488158  -79.495119  9.279000\n",
       "3  -5.921348  36.061665 -216.555224  8.634806\n",
       "4  -6.364172  41.220748 -264.651158  9.567111"
      ]
     },
     "execution_count": 10,
     "metadata": {},
     "output_type": "execute_result"
    }
   ],
   "source": [
    "data = data.drop(labels='feature_1', axis=1)\n",
    "data.head()"
   ]
  },
  {
   "cell_type": "markdown",
   "metadata": {},
   "source": [
    "Посмотрим далее графически на совместные зависимости данных, а также на распределения"
   ]
  },
  {
   "cell_type": "code",
   "execution_count": 11,
   "metadata": {},
   "outputs": [
    {
     "data": {
      "image/png": "[encoded data removed]",
      "text/plain": [
       "<Figure size 432x288 with 2 Axes>"
      ]
     },
     "metadata": {},
     "output_type": "display_data"
    }
   ],
   "source": [
    "sns.heatmap(data.corr(method='spearman'), annot=True);"
   ]
  },
  {
   "cell_type": "markdown",
   "metadata": {},
   "source": [
    "По корреляции Спирмена, `feature_2` и `feature_4` также сильно скоррелированы сильно, поэтому также удалим `feature_4`"
   ]
  },
  {
   "cell_type": "code",
   "execution_count": 12,
   "metadata": {},
   "outputs": [],
   "source": [
    "data = data.drop('feature_4', axis=1)"
   ]
  },
  {
   "cell_type": "code",
   "execution_count": 13,
   "metadata": {},
   "outputs": [
    {
     "data": {
      "image/png": "[encoded data removed]",
      "text/plain": [
       "<Figure size 540x540 with 12 Axes>"
      ]
     },
     "metadata": {},
     "output_type": "display_data"
    }
   ],
   "source": [
    "sns.pairplot(\n",
    "    data,\n",
    ");"
   ]
  },
  {
   "cell_type": "code",
   "execution_count": 14,
   "metadata": {},
   "outputs": [
    {
     "data": {
      "image/png": "[encoded data removed]",
      "text/plain": [
       "<Figure size 432x288 with 1 Axes>"
      ]
     },
     "metadata": {},
     "output_type": "display_data"
    }
   ],
   "source": [
    "data['target'].plot(kind='hist', log=True);"
   ]
  },
  {
   "cell_type": "markdown",
   "metadata": {},
   "source": [
    "Видно, что `feature_2` и `feature_3` связаны квадратично, поэтому генерить квадраты не стоит, так как это приведет опять же к мультиколлинеарности. Можно попробовать сгененерировать куб `feature_2`."
   ]
  },
  {
   "cell_type": "markdown",
   "metadata": {},
   "source": [
    "## Подготовка данных к обучению и тесту\n",
    "\n",
    "Далее разобьем данные на `train/test` (80% оставим на обучение, 20% - на тест). Также отнормируем их, причем фитить scaler будем только на train'e, чтобы не произошло утечки в test"
   ]
  },
  {
   "cell_type": "code",
   "execution_count": 15,
   "metadata": {},
   "outputs": [],
   "source": [
    "# аналог train_test_split\n",
    "def make_train_test(X, y, train_size=0.8):\n",
    "    perm = np.random.permutation(range(len(X)))\n",
    "    train_indx = perm[:int(train_size * len(X))]\n",
    "    test_indx = perm[int(train_size * len(X)):]\n",
    "    \n",
    "    return (\n",
    "        X[train_indx], X[test_indx],\n",
    "        y[train_indx], y[test_indx],\n",
    "    )\n",
    "\n",
    "\n",
    "# приводим данные к стандартной форме (среднее == 0 && дисперсия == 1)\n",
    "def scale_data(X_train, X_test, y_train, y_test):\n",
    "    X_mean = np.mean(X_train, axis=0)\n",
    "    y_mean = np.mean(y_train, axis=0)\n",
    "    X_std = np.std(X_train, axis=0)\n",
    "    y_std = np.std(y_train, axis=0)\n",
    "    \n",
    "    X_train = (X_train - X_mean) / X_std\n",
    "    X_test = (X_test - X_mean) / X_std\n",
    "    y_train = (y_train - y_mean) / y_std\n",
    "    y_test = (y_test - y_mean) / y_std\n",
    "    \n",
    "    return (\n",
    "        X_train, X_test,\n",
    "        y_train, y_test,\n",
    "    )\n",
    "\n",
    "    \n",
    "# объединение всей подготовки данных в одную функцию\n",
    "def prepare_data(X, y):\n",
    "    X_train, X_test, y_train, y_test = make_train_test(X, y)\n",
    "    X_train, X_test, y_train, y_test = scale_data(X_train, X_test, y_train, y_test)\n",
    "    \n",
    "    return (\n",
    "        X_train, X_test,\n",
    "        y_train, y_test,\n",
    "    )"
   ]
  },
  {
   "cell_type": "markdown",
   "metadata": {},
   "source": [
    "## Создание модели\n",
    "\n",
    "1) класс `Differentiable`: это абстракный базовый класс для всех последующих моделей, связанных с регрессией\n",
    "\n",
    "2) класс `Loss`: данный класс описывает функционал потерь. У него есть методы для подсчета части градиента, которая относится к внешней части лосса, а также метод, возвращающий само значение лосса. В даанном конкретном случае - это **MSE**\n",
    "\n",
    "3) класс `LinearRegression`: класс описывает модель линейной регрессии. Есть метод для подсчета части градиента, относящейся к внутренней части функционала лосса, а также метод для подсчета самого значения линейной регрессии (Xw)\n",
    "\n",
    "4) функция `train_loop`: принимает исходные данные, модель, функционал лосса, количество эпох и learning_rate. Итеративно (количество повторений == количеству эпох). На каждой итерации мы делаем шаг градиентного спуска и считаем лосс. Функция возвращает list из значений функции ошибки на каждом шаге."
   ]
  },
  {
   "cell_type": "code",
   "execution_count": 16,
   "metadata": {},
   "outputs": [],
   "source": [
    "class Differentiable(ABC):\n",
    "    def __init__(self):\n",
    "        pass\n",
    "    \n",
    "    @abstractmethod\n",
    "    def forward(self, **kwargs):\n",
    "        pass\n",
    "    \n",
    "    @abstractmethod\n",
    "    def backward(self, **kwargs):\n",
    "        pass"
   ]
  },
  {
   "cell_type": "code",
   "execution_count": 17,
   "metadata": {},
   "outputs": [],
   "source": [
    "class Loss(Differentiable):\n",
    "    def __init__(self):\n",
    "        super(Loss, self).__init__()\n",
    "    \n",
    "    def forward(self, y_pred, y_true):\n",
    "        # Этот метод реализует вычисление значения функции потерь\n",
    "        # Подсказка: метод должен возвращать единственный скаляр - значение функции потерь\n",
    "        assert y_pred.shape == y_true.shape, f'y_true shape != y_pred shape ({y_true.shape} != {y_pred.shape})'\n",
    "        n = y_pred.shape[0]\n",
    "        \n",
    "        loss_value = (1 / n) * np.sum((y_pred - y_true)**2)\n",
    "                 \n",
    "        return loss_value\n",
    "    \n",
    "    def backward(self, y_pred, y_true):\n",
    "        # Этот метод реализует вычисление градиента функции потерь по аргументу y_pred\n",
    "        # Подсказка: метод должен возвращать вектор градиента функции потерь\n",
    "        #           размерностью, совпадающей с размерностью аргумента y_pred\n",
    "        \n",
    "        partial_grad = np.zeros_like(y_pred-y_true)\n",
    "        n = y_pred.shape[0]\n",
    "        \n",
    "        partial_grad = (2 / n) * (y_pred - y_true) \n",
    "        \n",
    "        assert y_pred.shape == partial_grad.shape, f'y_pred shape != partial_grad shape ({y_pred.shape} != {partial_grad.shape})'\n",
    "        return partial_grad"
   ]
  },
  {
   "cell_type": "code",
   "execution_count": 18,
   "metadata": {},
   "outputs": [],
   "source": [
    "class LinearRegression(Differentiable):\n",
    "    def __init__(self, fit_intercept=False):\n",
    "        super(LinearRegression, self).__init__()\n",
    "        self.theta = None\n",
    "        self.fit_intercept = fit_intercept\n",
    "    \n",
    "    def __call__(self, X):\n",
    "        # этот метод предназначен для вычисления значения целевой переменной\n",
    "        return self.forward(X)\n",
    "    \n",
    "    def backward(self, X):\n",
    "        # Этот метод реализует вычисление компоненты градиента функции потерь\n",
    "        \n",
    "        partial_grad = X.T\n",
    "        \n",
    "        return partial_grad\n",
    "    \n",
    "    def forward(self, X):\n",
    "        # этот метод предназначен для применения модели к данным\n",
    "        assert X.ndim == 2, \"X should be 2-dimensional: (N of objects, n of features)\"\n",
    "        \n",
    "        if self.theta is None:\n",
    "            # Если вектор параметров еще не инициализирован, его следует инициализировать\n",
    "            # Подсказка: длина вектора параметров может быть получена из размера матрицы X\n",
    "            self.theta = np.zeros((X.shape[1], 1))\n",
    "        \n",
    "        X = np.concatenate((X, np.ones(X.shape[0], 1)), axis=1) if self.fit_intercept else X\n",
    "        y_pred = np.dot(X, self.theta)\n",
    "        \n",
    "        return y_pred"
   ]
  },
  {
   "cell_type": "code",
   "execution_count": 19,
   "metadata": {},
   "outputs": [],
   "source": [
    "def train_loop(X_train, y_train, model, loss_fn, epochs=100, learning_rate=0.05):\n",
    "    loss_history = []\n",
    "    pbar = tqdm(total=epochs)\n",
    "    for epoch in range(epochs):\n",
    "        # В этом цикле следует реализовать итеративную процедуру оптимизации параметров модели model,\n",
    "        #        руководствуясь функцией потерь loss_fn\n",
    "        \n",
    "        \n",
    "        y_pred = model.forward(X_train)\n",
    "        loss_value = loss_fn.forward(y_pred, y_train)  # вычисление значения лосса\n",
    "        grad = np.dot(model.backward(X_train), loss_fn.backward(y_pred, y_train))  # вычисление градиента\n",
    "        \n",
    "        model.theta -= learning_rate * grad  # шаг градиетного спуска\n",
    "        \n",
    "        loss_history.append(loss_value)\n",
    "        pbar.update(1)\n",
    "        pbar.set_postfix({'loss': loss_value})\n",
    "    pbar.close()\n",
    "    return loss_history"
   ]
  },
  {
   "cell_type": "markdown",
   "metadata": {},
   "source": [
    "## Процесс обучения"
   ]
  },
  {
   "cell_type": "code",
   "execution_count": 20,
   "metadata": {},
   "outputs": [],
   "source": [
    "X_train, X_test, y_train, y_test = prepare_data(X, y)"
   ]
  },
  {
   "cell_type": "code",
   "execution_count": 21,
   "metadata": {},
   "outputs": [
    {
     "name": "stderr",
     "output_type": "stream",
     "text": [
      "100%|██████████| 1000/1000 [00:01<00:00, 918.61it/s, loss=0.00137]\n"
     ]
    }
   ],
   "source": [
    "obj_fn = Loss()\n",
    "lr_model = LinearRegression()\n",
    "loss_history = train_loop(X_train, y_train, lr_model, obj_fn, epochs=1000);"
   ]
  },
  {
   "cell_type": "code",
   "execution_count": 22,
   "metadata": {},
   "outputs": [
    {
     "name": "stdout",
     "output_type": "stream",
     "text": [
      "0.0013678957342207812\n"
     ]
    }
   ],
   "source": [
    "print(loss_history[-1])"
   ]
  },
  {
   "cell_type": "code",
   "execution_count": 23,
   "metadata": {},
   "outputs": [
    {
     "data": {
      "image/png": "[encoded data removed]",
      "text/plain": [
       "<Figure size 432x288 with 1 Axes>"
      ]
     },
     "metadata": {},
     "output_type": "display_data"
    }
   ],
   "source": [
    "plt.plot(loss_history);"
   ]
  },
  {
   "cell_type": "markdown",
   "metadata": {},
   "source": [
    "## Оценка работы модели"
   ]
  },
  {
   "cell_type": "code",
   "execution_count": 24,
   "metadata": {},
   "outputs": [
    {
     "name": "stdout",
     "output_type": "stream",
     "text": [
      "MSE on test_data: 0.0015037588977660668\n"
     ]
    }
   ],
   "source": [
    "from sklearn.metrics import mean_squared_error\n",
    "\n",
    "y_pred = lr_model.forward(X_test)\n",
    "\n",
    "print(f\"MSE on test_data: {obj_fn.forward(y_pred, y_test)}\")"
   ]
  },
  {
   "cell_type": "markdown",
   "metadata": {},
   "source": [
    "## Порождение полиномиальных признаков"
   ]
  },
  {
   "cell_type": "code",
   "execution_count": 25,
   "metadata": {},
   "outputs": [],
   "source": [
    "from sklearn.preprocessing import PolynomialFeatures\n",
    "\n",
    "def make_poly_features(X, degree=2):\n",
    "    poly_transformer = PolynomialFeatures(degree=degree)\n",
    "    \n",
    "    return poly_transformer.fit_transform(X)\n",
    "\n",
    "feature_2_triple = data['feature_2'] ** 3\n",
    "data_poly = pd.concat([data, feature_2_triple], axis=1)\n",
    "X_poly = data_poly.drop('target', axis=1)\n",
    "y_poly = data_poly['target']"
   ]
  },
  {
   "cell_type": "code",
   "execution_count": 26,
   "metadata": {},
   "outputs": [],
   "source": [
    "X_poly.columns = ['feature_2', 'feature_3', 'feature_2_triple']"
   ]
  },
  {
   "cell_type": "code",
   "execution_count": 27,
   "metadata": {},
   "outputs": [],
   "source": [
    "X_poly_train, X_poly_test, y_poly_train, y_poly_test = prepare_data(X_poly.values, y_poly.values)"
   ]
  },
  {
   "cell_type": "markdown",
   "metadata": {},
   "source": [
    "## ВЫВОД\n",
    "в целом, то что у меня получилось, работает довольно  неплохо, поэтому линейная регрессия должна подходить для подобной задачи\n",
    "\n",
    "По моим результатам переобучения не наблюдается, избыточность данных очевидно есть, в процессе описания решения задачи, я пытался от нее избавиться по средствам удаления лишиних фичей, к примеру."
   ]
  }
 ],
 "metadata": {
  "kernelspec": {
   "display_name": "Python 3",
   "language": "python",
   "name": "python3"
  },
  "language_info": {
   "codemirror_mode": {
    "name": "ipython",
    "version": 3
   },
   "file_extension": ".py",
   "mimetype": "text/x-python",
   "name": "python",
   "nbconvert_exporter": "python",
   "pygments_lexer": "ipython3",
   "version": "3.8.3"
  }
 },
 "nbformat": 4,
 "nbformat_minor": 2
}
